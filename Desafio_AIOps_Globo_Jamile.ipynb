{
  "nbformat": 4,
  "nbformat_minor": 0,
  "metadata": {
    "colab": {
      "name": "Desafio AIOps Globo - Jamile.ipynb",
      "provenance": [],
      "collapsed_sections": [],
      "authorship_tag": "ABX9TyMBUNEUL1XT90w+LPRktqcV",
      "include_colab_link": true
    },
    "kernelspec": {
      "name": "python3",
      "display_name": "Python 3"
    },
    "language_info": {
      "name": "python"
    }
  },
  "cells": [
    {
      "cell_type": "markdown",
      "metadata": {
        "id": "view-in-github",
        "colab_type": "text"
      },
      "source": [
        "<a href=\"https://colab.research.google.com/github/JamileSantos/Modelos_Ciencia_de_Dados/blob/master/Desafio_AIOps_Globo_Jamile.ipynb\" target=\"_parent\"><img src=\"https://colab.research.google.com/assets/colab-badge.svg\" alt=\"Open In Colab\"/></a>"
      ]
    },
    {
      "cell_type": "code",
      "execution_count": 64,
      "metadata": {
        "id": "DIh87YVkUB5d",
        "colab": {
          "base_uri": "https://localhost:8080/"
        },
        "outputId": "7c534a70-3db3-4d01-e5bb-4ae9a4df5130"
      },
      "outputs": [
        {
          "output_type": "stream",
          "name": "stdout",
          "text": [
            "Drive already mounted at /content/drive; to attempt to forcibly remount, call drive.mount(\"/content/drive\", force_remount=True).\n"
          ]
        }
      ],
      "source": [
        "from google.colab import drive\n",
        "drive.mount('/content/drive')"
      ]
    },
    {
      "cell_type": "markdown",
      "source": [
        "#Desafio AIOps Globo\n",
        "\n",
        "A Globo decidiu lançar um sistema de compras dentro de seu aplicativo de streaming Globoplay. Os usuários assinam o Globoplay e podem assistir diversos conteúdos de vídeos: filmes, séries, novelas, jornais etc. Enquanto o usuário assiste o conteúdo, ele pode acessar um menu no aplicativo ou no website que irá mostrar produtos relacionados ao conteúdo que está sendo assistido, exemplo: O personagem de uma novela usa uma roupa de uma marca determinada, o usuário poderá comprar essa mesma roupa da mesma marca.\n",
        "\n",
        "Vamos supor que esse sistema já esteja sendo usado em uma pequena quantidade de usuários há alguns anos e você foi contratado para analisar se a Globo deverá focar seus esforços em seu aplicativo móvel ou em seu site, de forma a dar mais atenção ao que gera mais lucro. \n",
        "\n",
        "Com base nisso seguem alguns questionamentos:\n",
        "1. O tempo como membro é importante? \n",
        "2. Como você interpreta os coeficientes gerados? \n",
        "3. Onde a Globo deve investir futuramente seus recursos e esforços: no app ou no site? \n",
        "4. Na sua visão, os dados mostram algum insight importante que a Globo deva levar em consideração para este projeto?"
      ],
      "metadata": {
        "id": "3rs9fWTVwWqf"
      }
    },
    {
      "cell_type": "code",
      "source": [
        "# GloboplayUsers.csv\n",
        "# Importando as bibliotecas \n",
        "import pandas as pd \n",
        "import seaborn as sns\n",
        "import matplotlib.pyplot as plt\n",
        "import numpy as np\n",
        "\n",
        "#Importando a base de dados \n",
        "\n",
        "df = pd.read_csv('/content/drive/MyDrive/Dataset/GloboplayUsers.csv', delimiter=',')"
      ],
      "metadata": {
        "id": "aoNE0vdDsN5g"
      },
      "execution_count": 175,
      "outputs": []
    },
    {
      "cell_type": "markdown",
      "source": [
        "### Analise exploratória dos dados\n",
        "\n"
      ],
      "metadata": {
        "id": "kRM9vyvg2UE1"
      }
    },
    {
      "cell_type": "code",
      "source": [
        "# Verificando o Tamanho da Amostra\n",
        "df.shape"
      ],
      "metadata": {
        "colab": {
          "base_uri": "https://localhost:8080/"
        },
        "id": "USGg1ctKPbNE",
        "outputId": "d380b27f-5aec-4ccb-daec-14fa332bd407"
      },
      "execution_count": 164,
      "outputs": [
        {
          "output_type": "execute_result",
          "data": {
            "text/plain": [
              "(500, 4)"
            ]
          },
          "metadata": {},
          "execution_count": 164
        }
      ]
    },
    {
      "cell_type": "code",
      "source": [
        "#Verificando as informações\n",
        "df.info()"
      ],
      "metadata": {
        "colab": {
          "base_uri": "https://localhost:8080/"
        },
        "id": "9nsLouvgPT2-",
        "outputId": "8e2edde1-60df-48e8-fc65-ea30a5e84a95"
      },
      "execution_count": 165,
      "outputs": [
        {
          "output_type": "stream",
          "name": "stdout",
          "text": [
            "<class 'pandas.core.frame.DataFrame'>\n",
            "RangeIndex: 500 entries, 0 to 499\n",
            "Data columns (total 4 columns):\n",
            " #   Column                Non-Null Count  Dtype  \n",
            "---  ------                --------------  -----  \n",
            " 0   Time on App           500 non-null    float64\n",
            " 1   Time on Website       500 non-null    float64\n",
            " 2   Length of Membership  500 non-null    float64\n",
            " 3   Yearly Amount Spent   500 non-null    float64\n",
            "dtypes: float64(4)\n",
            "memory usage: 15.8 KB\n"
          ]
        }
      ]
    },
    {
      "cell_type": "code",
      "source": [
        "#Verificando a Presença de Nulos\n",
        "df.isna().sum()"
      ],
      "metadata": {
        "colab": {
          "base_uri": "https://localhost:8080/"
        },
        "id": "qcE93pwy0zRl",
        "outputId": "ea539647-af0e-4297-ba22-36449f40a260"
      },
      "execution_count": 166,
      "outputs": [
        {
          "output_type": "execute_result",
          "data": {
            "text/plain": [
              "Time on App             0\n",
              "Time on Website         0\n",
              "Length of Membership    0\n",
              "Yearly Amount Spent     0\n",
              "dtype: int64"
            ]
          },
          "metadata": {},
          "execution_count": 166
        }
      ]
    },
    {
      "cell_type": "markdown",
      "source": [
        "Sobre a análise estatística dos dados iniciais:\n",
        "\n",
        "*   A **média** de *Tempo médio gasto no aplicativo Globoplay* em horas/semana é de $\\color{red}{12.052488}$, para a média de *Tempo médio gasto no site do Globoplay* em horas/semana é de $\\color{red}{37.060445}$, para a média de *Há quantos anos o cliente é membro* do Globoplay é de $\\color{red}{3.533462}$, para a média do *Quanto o usuário gastou em média durante um ano de teste* da funcionalidade em reais $\\color{red}{499.314038}$\n",
        "*   **Desvio Padrão**: na análise inicial, os três primeiros campos indicam o quanto o conjunto de dados é uniforme (quanto mais próximo de 0 for o desvio padrão, mais homogêneo são os dados), portanto as variáveis *Time on App* = $\\color{red}{0.994216}$,\t*Time on Website* = $\\color{red}{1.010489}$,\t*Lenght of Membership* = $\\color{red}{0.999278}$, e apenas na variável *Yearly Amount Spent* =\t$\\color{red}{79.314782}$ possue um  grau de dispersão maior no conjunto de dados\n",
        "\n",
        "\n"
      ],
      "metadata": {
        "id": "OjnM_oDLtGls"
      }
    },
    {
      "cell_type": "code",
      "source": [
        "df.describe()"
      ],
      "metadata": {
        "colab": {
          "base_uri": "https://localhost:8080/",
          "height": 0
        },
        "id": "_XM7rkClPQ_g",
        "outputId": "fbc0be6e-f5a3-444c-a40e-54234ac8b402"
      },
      "execution_count": 167,
      "outputs": [
        {
          "output_type": "execute_result",
          "data": {
            "text/plain": [
              "       Time on App  Time on Website  Length of Membership  Yearly Amount Spent\n",
              "count   500.000000       500.000000            500.000000           500.000000\n",
              "mean     12.052488        37.060445              3.533462           499.314038\n",
              "std       0.994216         1.010489              0.999278            79.314782\n",
              "min       8.508152        33.913847              0.269901           256.670582\n",
              "25%      11.388153        36.349257              2.930450           445.038277\n",
              "50%      11.983231        37.069367              3.533975           498.887875\n",
              "75%      12.753850        37.716432              4.126502           549.313828\n",
              "max      15.126994        40.005182              6.922689           765.518462"
            ],
            "text/html": [
              "\n",
              "  <div id=\"df-bf02ac73-551e-41fa-9d01-80ca123198a2\">\n",
              "    <div class=\"colab-df-container\">\n",
              "      <div>\n",
              "<style scoped>\n",
              "    .dataframe tbody tr th:only-of-type {\n",
              "        vertical-align: middle;\n",
              "    }\n",
              "\n",
              "    .dataframe tbody tr th {\n",
              "        vertical-align: top;\n",
              "    }\n",
              "\n",
              "    .dataframe thead th {\n",
              "        text-align: right;\n",
              "    }\n",
              "</style>\n",
              "<table border=\"1\" class=\"dataframe\">\n",
              "  <thead>\n",
              "    <tr style=\"text-align: right;\">\n",
              "      <th></th>\n",
              "      <th>Time on App</th>\n",
              "      <th>Time on Website</th>\n",
              "      <th>Length of Membership</th>\n",
              "      <th>Yearly Amount Spent</th>\n",
              "    </tr>\n",
              "  </thead>\n",
              "  <tbody>\n",
              "    <tr>\n",
              "      <th>count</th>\n",
              "      <td>500.000000</td>\n",
              "      <td>500.000000</td>\n",
              "      <td>500.000000</td>\n",
              "      <td>500.000000</td>\n",
              "    </tr>\n",
              "    <tr>\n",
              "      <th>mean</th>\n",
              "      <td>12.052488</td>\n",
              "      <td>37.060445</td>\n",
              "      <td>3.533462</td>\n",
              "      <td>499.314038</td>\n",
              "    </tr>\n",
              "    <tr>\n",
              "      <th>std</th>\n",
              "      <td>0.994216</td>\n",
              "      <td>1.010489</td>\n",
              "      <td>0.999278</td>\n",
              "      <td>79.314782</td>\n",
              "    </tr>\n",
              "    <tr>\n",
              "      <th>min</th>\n",
              "      <td>8.508152</td>\n",
              "      <td>33.913847</td>\n",
              "      <td>0.269901</td>\n",
              "      <td>256.670582</td>\n",
              "    </tr>\n",
              "    <tr>\n",
              "      <th>25%</th>\n",
              "      <td>11.388153</td>\n",
              "      <td>36.349257</td>\n",
              "      <td>2.930450</td>\n",
              "      <td>445.038277</td>\n",
              "    </tr>\n",
              "    <tr>\n",
              "      <th>50%</th>\n",
              "      <td>11.983231</td>\n",
              "      <td>37.069367</td>\n",
              "      <td>3.533975</td>\n",
              "      <td>498.887875</td>\n",
              "    </tr>\n",
              "    <tr>\n",
              "      <th>75%</th>\n",
              "      <td>12.753850</td>\n",
              "      <td>37.716432</td>\n",
              "      <td>4.126502</td>\n",
              "      <td>549.313828</td>\n",
              "    </tr>\n",
              "    <tr>\n",
              "      <th>max</th>\n",
              "      <td>15.126994</td>\n",
              "      <td>40.005182</td>\n",
              "      <td>6.922689</td>\n",
              "      <td>765.518462</td>\n",
              "    </tr>\n",
              "  </tbody>\n",
              "</table>\n",
              "</div>\n",
              "      <button class=\"colab-df-convert\" onclick=\"convertToInteractive('df-bf02ac73-551e-41fa-9d01-80ca123198a2')\"\n",
              "              title=\"Convert this dataframe to an interactive table.\"\n",
              "              style=\"display:none;\">\n",
              "        \n",
              "  <svg xmlns=\"http://www.w3.org/2000/svg\" height=\"24px\"viewBox=\"0 0 24 24\"\n",
              "       width=\"24px\">\n",
              "    <path d=\"M0 0h24v24H0V0z\" fill=\"none\"/>\n",
              "    <path d=\"M18.56 5.44l.94 2.06.94-2.06 2.06-.94-2.06-.94-.94-2.06-.94 2.06-2.06.94zm-11 1L8.5 8.5l.94-2.06 2.06-.94-2.06-.94L8.5 2.5l-.94 2.06-2.06.94zm10 10l.94 2.06.94-2.06 2.06-.94-2.06-.94-.94-2.06-.94 2.06-2.06.94z\"/><path d=\"M17.41 7.96l-1.37-1.37c-.4-.4-.92-.59-1.43-.59-.52 0-1.04.2-1.43.59L10.3 9.45l-7.72 7.72c-.78.78-.78 2.05 0 2.83L4 21.41c.39.39.9.59 1.41.59.51 0 1.02-.2 1.41-.59l7.78-7.78 2.81-2.81c.8-.78.8-2.07 0-2.86zM5.41 20L4 18.59l7.72-7.72 1.47 1.35L5.41 20z\"/>\n",
              "  </svg>\n",
              "      </button>\n",
              "      \n",
              "  <style>\n",
              "    .colab-df-container {\n",
              "      display:flex;\n",
              "      flex-wrap:wrap;\n",
              "      gap: 12px;\n",
              "    }\n",
              "\n",
              "    .colab-df-convert {\n",
              "      background-color: #E8F0FE;\n",
              "      border: none;\n",
              "      border-radius: 50%;\n",
              "      cursor: pointer;\n",
              "      display: none;\n",
              "      fill: #1967D2;\n",
              "      height: 32px;\n",
              "      padding: 0 0 0 0;\n",
              "      width: 32px;\n",
              "    }\n",
              "\n",
              "    .colab-df-convert:hover {\n",
              "      background-color: #E2EBFA;\n",
              "      box-shadow: 0px 1px 2px rgba(60, 64, 67, 0.3), 0px 1px 3px 1px rgba(60, 64, 67, 0.15);\n",
              "      fill: #174EA6;\n",
              "    }\n",
              "\n",
              "    [theme=dark] .colab-df-convert {\n",
              "      background-color: #3B4455;\n",
              "      fill: #D2E3FC;\n",
              "    }\n",
              "\n",
              "    [theme=dark] .colab-df-convert:hover {\n",
              "      background-color: #434B5C;\n",
              "      box-shadow: 0px 1px 3px 1px rgba(0, 0, 0, 0.15);\n",
              "      filter: drop-shadow(0px 1px 2px rgba(0, 0, 0, 0.3));\n",
              "      fill: #FFFFFF;\n",
              "    }\n",
              "  </style>\n",
              "\n",
              "      <script>\n",
              "        const buttonEl =\n",
              "          document.querySelector('#df-bf02ac73-551e-41fa-9d01-80ca123198a2 button.colab-df-convert');\n",
              "        buttonEl.style.display =\n",
              "          google.colab.kernel.accessAllowed ? 'block' : 'none';\n",
              "\n",
              "        async function convertToInteractive(key) {\n",
              "          const element = document.querySelector('#df-bf02ac73-551e-41fa-9d01-80ca123198a2');\n",
              "          const dataTable =\n",
              "            await google.colab.kernel.invokeFunction('convertToInteractive',\n",
              "                                                     [key], {});\n",
              "          if (!dataTable) return;\n",
              "\n",
              "          const docLinkHtml = 'Like what you see? Visit the ' +\n",
              "            '<a target=\"_blank\" href=https://colab.research.google.com/notebooks/data_table.ipynb>data table notebook</a>'\n",
              "            + ' to learn more about interactive tables.';\n",
              "          element.innerHTML = '';\n",
              "          dataTable['output_type'] = 'display_data';\n",
              "          await google.colab.output.renderOutput(dataTable, element);\n",
              "          const docLink = document.createElement('div');\n",
              "          docLink.innerHTML = docLinkHtml;\n",
              "          element.appendChild(docLink);\n",
              "        }\n",
              "      </script>\n",
              "    </div>\n",
              "  </div>\n",
              "  "
            ]
          },
          "metadata": {},
          "execution_count": 167
        }
      ]
    },
    {
      "cell_type": "code",
      "source": [
        "#Visualização gráfica dos Dados\n",
        "fig, ((ax0, ax1), (ax2, ax3)) = plt.subplots(nrows=2, ncols=2)\n",
        "\n",
        "ax0.hist(df[\"Time on App\"], 10, stacked=True, color ='red', rwidth=0.9)\n",
        "ax0.set_title('Time on App')\n",
        "\n",
        "ax1.hist(df[\"Time on Website\"], 10, stacked=True, color ='tan', rwidth=0.9)\n",
        "ax1.set_title('Time on Website')\n",
        "\n",
        "ax2.hist(df[\"Length of Membership\"], 10, stacked=True, color ='lime',rwidth=0.9)\n",
        "ax2.set_title('Length of Membership')\n",
        "\n",
        "ax3.hist(df[\"Yearly Amount Spent\"], 10, stacked=True, color ='purple', rwidth=0.9)\n",
        "ax3.set_title('Yearly Amount Spent')\n",
        "\n",
        "fig.tight_layout()\n",
        "plt.show()\n"
      ],
      "metadata": {
        "colab": {
          "base_uri": "https://localhost:8080/",
          "height": 0
        },
        "id": "5u-8vT2FtZlH",
        "outputId": "017c0735-0100-4f9d-903c-5762bf1c9311"
      },
      "execution_count": 168,
      "outputs": [
        {
          "output_type": "display_data",
          "data": {
            "text/plain": [
              "<Figure size 432x288 with 4 Axes>"
            ],
            "image/png": "[encoded data removed]"
          },
          "metadata": {
            "needs_background": "light"
          }
        }
      ]
    },
    {
      "cell_type": "markdown",
      "source": [
        "### Motivação sobre a escolha da Implementação da solução em Python e de suas boas práticas\n",
        "\n",
        "> A segmentação do público-alvo de uma campanha é essencial para sua efetividade. Para  fazer isso, é preciso estudar os dados de comportamento do consumidor ou potencial cliente da marca e separá-los em clusters, ou seja, grupos. A clusterização é a categorização das informações sobre o consumidor a fim de gerar segmentações relevantes para as campanhas. Uma das grandes vantagens da clusterização é sua flexibilidade. Dado o conjunto de dados apresentado, eu poderia usar o modelo k-means onde eu mediria a incerteza na atribuição de cluster comparando as distâncias de cada ponto a todos os centros de cluster, em vez de se concentrar apenas no mais próximo. Mas para esse conjunto, eu não tenho informações dos dados nem suas relações, entçao para isso eu escolhi a abordagem GMM, onde podemos calcular a probabilidade de associação de um determinado ponto de dados pertencer a certo numero de clusters. E se cálculos retornarem um valor de alta probabilidade para este ponto de dados no cluster, podemos supor que todos os pontos de dados pertencentes a este cluster têm o mesmo valor de destino que este ponto de dados. Com isso, podemos rotular todos os pontos de dados não rotulados deste cluster (dado que os clusters estão fortemente agrupados)."
      ],
      "metadata": {
        "id": "mWmPB-Zw2BA4"
      }
    },
    {
      "cell_type": "markdown",
      "source": [
        "### Gaussian Mixture Models"
      ],
      "metadata": {
        "id": "Hf4pFYZs4yGM"
      }
    },
    {
      "cell_type": "markdown",
      "source": [
        "Escolhi o ***Modelo de Mistura Gaussiana(GMM)*** pois ele tenta encontrar uma mistura de distribuições de probabilidade gaussianas multidimensionais que melhor modelem qualquer conjunto de dados. **O algoritmo GMM é um algoritmo de aprendizado não-supervisionado**, pois não conhecemos nenhuma relação entre as variáveis. Além disso, o GMM é categorizado nos algoritmos de agrupamento, pois pode ser usado para encontrar agrupamentos nos dados revelando a probabilidade de relação entre elas.\n",
        "\n",
        "Ou seja, ele tenta encontrar alguma distribuição gaussiana que pode ser usada para descrever a forma do nosso conjunto de dados. Assume-se que os pontos de dados vêm de distribuições gaussianas multidimensionais que podem ter parâmetros variados de covariância, média e densidade. Esse modelo é familiar com as Distribuições Gaussianas (ou a Distribuição Normal) que possuem uma curva em forma de sino, com os pontos de dados distribuídos simetricamente em torno do valor médio.\n",
        "\n",
        "\n",
        "1.   **Definição**\n",
        "\n",
        "Os modelos de mistura gaussiana funcionam com base em um algoritmo chamado **Expectation-Maximization(EM)**. Quando dado o número de clusters para um modelo de mistura gaussiana, o algoritmo EM tenta descobrir os parâmetros dessas distribuições gaussianas em duas etapas básicas.\n",
        "\n",
        ">1. O *E-step* faz uma estimativa dos parâmetros com base nos dados disponíveis. Os pontos de dados são atribuídos a um cluster gaussiano e as probabilidades são calculadas de que eles pertencem a esse cluster.\n",
        "2. O *M-step* atualiza os parâmetros do cluster com base nos cálculos da etapa *E-step*. A média, a covariância e a densidade são calculadas para clusters com base nos pontos de dados.\n",
        "\n",
        "O processo é repetido com os valores calculados continuando a ser atualizados até que a convergência seja alcançada. Esse processo é familiar com o K-Means,  onde o fluxo semelhante ao de fazer um palpite, calcular valores e reajustar até a convergência.\n",
        "\n",
        "\n",
        "2. **Bibliografia**\n",
        "\n",
        "1. VanderPlas,J. (2017). Python Data Science Handbook. Sebastopol: O'Reilly, pp.465\n",
        "2. Mitchel,T. (1997). Machine Learning. McGraw-Hill: New York, pp.191\n",
        "3. Bishop,P. (2006). Pattern Recognition and Machine Learning. Berlin, Heidelberg: Springer, pp.430"
      ],
      "metadata": {
        "id": "d51dSBa0Uycz"
      }
    },
    {
      "cell_type": "code",
      "source": [
        "from sklearn.mixture import GaussianMixture\n",
        "\n",
        "# Training gaussian mixture model\n",
        "gmm = GaussianMixture(n_components=3, covariance_type='full', max_iter=10)\n",
        "gmm.fit(df) #Estimativa dos parâmetros do modelo com o algoritmo EM.\n",
        "\n",
        "# Matriz de Probabilidades de Pertencimento\n",
        "# o método predict_proba retorna uma matriz de tamanho [n_samples, n_clusters] que mede a probabilidade de qualquer ponto pertencer a um determinado cluster\n",
        "probs = gmm.predict_proba(df)\n",
        "probs"
      ],
      "metadata": {
        "colab": {
          "base_uri": "https://localhost:8080/"
        },
        "id": "nA2j3L7Z4zxx",
        "outputId": "325fa059-9fab-41ef-c482-9b114fee8504"
      },
      "execution_count": 177,
      "outputs": [
        {
          "output_type": "execute_result",
          "data": {
            "text/plain": [
              "array([[0.22251478, 0.69818489, 0.07930033],\n",
              "       [0.06604956, 0.00407035, 0.92988009],\n",
              "       [0.75464224, 0.02754747, 0.21781029],\n",
              "       ...,\n",
              "       [0.76780964, 0.08930377, 0.14288659],\n",
              "       [0.52479915, 0.10022152, 0.37497933],\n",
              "       [0.69255474, 0.21560897, 0.09183629]])"
            ]
          },
          "metadata": {},
          "execution_count": 177
        }
      ]
    },
    {
      "cell_type": "code",
      "source": [
        "# print the converged log-likelihood value\n",
        "print(gmm.lower_bound_)\n",
        " \n",
        "# print the number of iterations needed\n",
        "# for the log-likelihood value to converge\n",
        "print(gmm.n_iter_)"
      ],
      "metadata": {
        "colab": {
          "base_uri": "https://localhost:8080/"
        },
        "id": "-k4HSaMR8O_U",
        "outputId": "8aded3d9-9cfe-4ad3-802c-450e4e2e06a3"
      },
      "execution_count": 178,
      "outputs": [
        {
          "output_type": "stream",
          "name": "stdout",
          "text": [
            "-8.96130395712907\n",
            "10\n"
          ]
        }
      ]
    },
    {
      "cell_type": "markdown",
      "source": [
        "**Média e Covariancia gerada dos Dados**\n",
        "\n",
        "1. Média\n",
        "\n",
        "\n",
        "> **Cluster 0**: em média, os usuários que o compõem não estão nos limites inferiores e superiores das variáveis, possuindo um maior $\\color{green}{⇑}$ Tempo Hora/Semana no App  e como\n",
        "$\\color{green}{⇑}$ Como membro do GloboPlay ***comparado aos usuários do Cluster 0***, são os usuários que passam menos $\\color{red}{\\downarrow}$ Tempo Hora/Semana no Website, porém possuem uma proximidade com os $\\color{red}{\\downarrow}$ Gastos por Ano em média durante o teste da funcionalidade em reais *comparado aos usuários do Cluster 1*.\n",
        "\n",
        "> **Cluster 1**: em média, os usuários que o compõem passam mais $\\color{green}{⇑}$ Tempo Hora/Semana no App e como\n",
        "$\\color{green}{⇑}$ Como membro do GloboPlay  , porém passam menos $\\color{red}{\\downarrow}$ Tempo Hora/Semana no Website, e possuem o maior $\\color{green}{⇑}$ Gastos por Ano em média durante o teste da funcionalidade em reais.  \n",
        "\n",
        "\n",
        "> **Cluster 2**: em média,  os usuários que o compõem passam mais $\\color{green}{⇑}$ Tempo Hora/Semana no Website mas, menos $\\color{red}{\\downarrow}$ Tempo Hora/Semana no App e menos tempo $\\color{red}{\\downarrow}$ Como membro do GloboPlay, e como consequência possuem menos $\\color{red}{\\downarrow}$ Gastos por Ano em média durante o teste da funcionalidade em reais.\n",
        "\n",
        "\n",
        "\n",
        "\n",
        "\n",
        "\\begin{array}{c|c|c}\n",
        "\\text{Cluster} & \\text{Time on  App} & \\text{Time on Website} & \\text{Length of Membership} & \\text{Yearly Amount Spent} \\\\ \\hline\n",
        "0 & 12.08130533 & \\color{red}{36.96097973} &  3.6761463 & 506.73935437\\\\\n",
        "1 & \\color{green}{12.69299491} & 37.04594925 &  \\color{green}{4.22133625} & \\color{green}{582.98572125}\\\\\n",
        "2 & \\color{red}{11.52446672} & \\color{green}{37.21939583} &  \\color{red}{2.80016675} & \\color{red}{424.89077093}\n",
        "\\end{array}\n",
        "\n",
        "2. Covariância\n",
        "\n"
      ],
      "metadata": {
        "id": "hi1cOGYDTfeh"
      }
    },
    {
      "cell_type": "code",
      "source": [
        "print('-- Media --')\n",
        "print(gmm.means_,'\\n')\n",
        "print('--- Covariância ---')\n",
        "print(gmm.covariances_,'\\n')"
      ],
      "metadata": {
        "colab": {
          "base_uri": "https://localhost:8080/"
        },
        "id": "URzC8gZfeIYf",
        "outputId": "cc398e6b-9c11-49af-8e67-fc109d0d2eb3"
      },
      "execution_count": 179,
      "outputs": [
        {
          "output_type": "stream",
          "name": "stdout",
          "text": [
            "-- Media --\n",
            "[[ 12.08130533  36.96097973   3.6761463  506.73935437]\n",
            " [ 12.69299491  37.04594925   4.22133625 582.98572125]\n",
            " [ 11.52446672  37.21939583   2.80016675 424.89077093]] \n",
            "\n",
            "--- Covariância ---\n",
            "[[[ 7.21490421e-01 -8.52591928e-03 -2.39231186e-01  7.60064114e+00]\n",
            "  [-8.52591928e-03  8.43800692e-01  5.44730835e-02  4.59314261e+00]\n",
            "  [-2.39231186e-01  5.44730835e-02  5.39030104e-01  2.11590188e+01]\n",
            "  [ 7.60064114e+00  4.59314261e+00  2.11590188e+01  1.91258893e+03]]\n",
            "\n",
            " [[ 7.90871782e-01  2.80736098e-01 -5.75678464e-02  2.32647116e+01]\n",
            "  [ 2.80736098e-01  1.19746368e+00 -2.51617896e-01 -8.05422174e+00]\n",
            "  [-5.75678464e-02 -2.51617896e-01  8.87182815e-01  4.84506514e+01]\n",
            "  [ 2.32647116e+01 -8.05422174e+00  4.84506514e+01  4.04210731e+03]]\n",
            "\n",
            " [[ 9.38099353e-01  1.63329205e-01 -2.33770178e-01  1.83825155e+01]\n",
            "  [ 1.63329205e-01  1.10446758e+00  9.91713534e-02  1.24292507e+01]\n",
            "  [-2.33770178e-01  9.91713534e-02  8.33639525e-01  3.97569798e+01]\n",
            "  [ 1.83825155e+01  1.24292507e+01  3.97569798e+01  3.54290224e+03]]] \n",
            "\n"
          ]
        }
      ]
    },
    {
      "cell_type": "markdown",
      "source": [
        "Análise da correlação é uma medida que indica a interdependência entre variáveis. Importante lembrar que essa correlação pode ser casual ou não. Essa medida de grau de relação é medida, neste caso,  através do coeficiente de Pearson.\n"
      ],
      "metadata": {
        "id": "PEMm-E9y5NJC"
      }
    },
    {
      "cell_type": "code",
      "source": [
        "# Matriz de Correlação\n",
        "print('-- Matriz de Correlação --')\n",
        "np.corrcoef(df,rowvar=False)"
      ],
      "metadata": {
        "colab": {
          "base_uri": "https://localhost:8080/"
        },
        "id": "eN5NnUodgMfq",
        "outputId": "89f14b33-da9a-48b9-93eb-149ae2d246f6"
      },
      "execution_count": 180,
      "outputs": [
        {
          "output_type": "stream",
          "name": "stdout",
          "text": [
            "-- Matriz de Correlação --\n"
          ]
        },
        {
          "output_type": "execute_result",
          "data": {
            "text/plain": [
              "array([[ 1.        ,  0.08238827,  0.02914256,  0.49932777],\n",
              "       [ 0.08238827,  1.        , -0.04758182, -0.00264084],\n",
              "       [ 0.02914256, -0.04758182,  1.        ,  0.80908357],\n",
              "       [ 0.49932777, -0.00264084,  0.80908357,  1.        ]])"
            ]
          },
          "metadata": {},
          "execution_count": 180
        }
      ]
    },
    {
      "cell_type": "markdown",
      "source": [
        "* **Média de Probabilidades**\n",
        "\n",
        "> Podemos perceber através dessa média é que ao entrar no app Globoplay, o usuário tem aproximadamente ***46% de chance*** de pertencer ao *Cluster 0*, isto é, ao Cluster que  os usuários passam mais $\\color{green}{⇑}$ Tempo Hora/Semana no Website, porém menos tempo $\\color{red}{\\downarrow}$ Como membro do GloboPlay, e como consequência gastam menos $\\color{red}{\\downarrow}$ Gastos por Ano e passam menos $\\color{red}{\\downarrow}$ Tempo Hora/Semana no App"
      ],
      "metadata": {
        "id": "KI_tctLLkiF5"
      }
    },
    {
      "cell_type": "code",
      "source": [
        "# Média de Probabilidades\n",
        "np.mean(probs, axis=0)"
      ],
      "metadata": {
        "colab": {
          "base_uri": "https://localhost:8080/"
        },
        "id": "yVXP-dEshBIs",
        "outputId": "9172ef69-befa-43d0-b8d2-983a6c1317de"
      },
      "execution_count": 181,
      "outputs": [
        {
          "output_type": "execute_result",
          "data": {
            "text/plain": [
              "array([0.46015301, 0.23134   , 0.30850698])"
            ]
          },
          "metadata": {},
          "execution_count": 181
        }
      ]
    },
    {
      "cell_type": "code",
      "source": [
        "#predictions from gmm\n",
        "labels = gmm.predict(df) #Evaluate the components’ density for each sample.\n",
        "frame = pd.DataFrame(df)\n",
        "frame['cluster'] = labels\n",
        "\n",
        "#Values_Count em relação ao Clusters\n",
        "frame['cluster'].value_counts()"
      ],
      "metadata": {
        "colab": {
          "base_uri": "https://localhost:8080/"
        },
        "id": "eKqSRNCNhrjt",
        "outputId": "56723eee-6836-49b4-e5bb-9e2fde17004d"
      },
      "execution_count": 182,
      "outputs": [
        {
          "output_type": "execute_result",
          "data": {
            "text/plain": [
              "0    267\n",
              "2    134\n",
              "1     99\n",
              "Name: cluster, dtype: int64"
            ]
          },
          "metadata": {},
          "execution_count": 182
        }
      ]
    },
    {
      "cell_type": "markdown",
      "source": [
        "### Respostas ao Questionamentos\n",
        "\n",
        "1. O tempo como membro é importante?\n",
        "\n",
        "> Sim, como podemos ver na *análise das médias dos Clusters*, os usúários que possuem mais tempo como membros do GloboPlay, investiram mais em média durante um ano de teste da funcionalidade em reais. Podemos ver na Matriz de Correlação essa relação, aonde as variáveis $\\color{yellow}{\\textit{Lenght of Membership}}$ e$\\color{yellow}{\\textit{Yearly Amount Spent}}$ possuem uma correlação muito forte de aproximadamente  $\\color{yellow}{0.81}$, possuindo uma relação direta.\n",
        "\n",
        "2. Como você interpreta os coeficientes gerados?\n",
        "\n",
        "> Neste modelo GMM utilizado, como explicado anteriormente, conseguimos obter a probabilidade de relação dos usuários com os clusters (grupos), podendo assim realizar a categorização das informações sobre o consumidor a fim de gerar segmentações relevantes para esforços e investimentos. A matriz de Probabilidade e a De Covariância podem ser usadas para analisar o comportamento de clientes e potenciais consumidores do sistema de compras.\n",
        "\n",
        "3. Onde a Globo deve investir futuramente seus recursos e esforços: no app ou no site?\n",
        "\n",
        "> De acordo com os dados, na minha opnião a Globo deve **insvestir seus recursos no app** , pois como podemos perceber os usuários que mais gastaram em *média durante um ano de teste da funcionalidade* em reais foram os que mais tinham tempo membro do Globoplay e maior gasto em média durante um ano de teste da funcionalidade em reais. Podemos perceber também que os usuários no **Cluster 0** possuem um Tempo Médio Gasto  no app e gasto em média durante um ano de teste da\n",
        "funcionalidade em reais bem próximo dos usuários do **Cluster 1** além dos seus gatos,  \n",
        "\n",
        "4. Na sua visão, os dados mostram algum insight importante que a Globo deva levar em consideração para este projeto?"
      ],
      "metadata": {
        "id": "dWfOASxk2XA1"
      }
    },
    {
      "cell_type": "markdown",
      "source": [
        "### Boas práticas de versionamento."
      ],
      "metadata": {
        "id": "HhTrR10WUsQZ"
      }
    },
    {
      "cell_type": "markdown",
      "source": [
        "### Visualização Gráficas dos Dados"
      ],
      "metadata": {
        "id": "A44zcuGC2fPT"
      }
    },
    {
      "cell_type": "markdown",
      "source": [
        "A análise de correlação vai retornar três possíveis cenários: (1) correlação positiva; (2) correlação negativa; e (3) não há correlação.\n",
        "Correlação positiva: quando duas variáveis que possuem correlação crescem ou decrescem juntas, ou seja, que possuem uma relação direta;\n",
        "Correlação negativa: quando duas variáveis que possuem correlação mas quando uma variável cresce a outra decresce, ou vice-versa;\n",
        "Não ter correlação: quando o crescimento ou decrescimento de uma variável não tem efeito sobre outra variável.\n",
        "Como podemos interpretar os valores que ρ pode assumir?\n",
        "ρ = 0,9 a 1 (positivo ou negativo): correlação muito forte;\n",
        "ρ = 0,7 a 09 (positivo ou negativo): correlação forte;\n",
        "ρ = 0,5 a 0,7 (positivo ou negativo): correlação moderada;\n",
        "ρ = 0,3 a 0,5 (positivo ou negativo): correlação fraca;\n",
        "ρ = 0 a 0,3 (positivo ou negativo): não possui correlação.\n",
        "\n",
        "Na Análise de correlação "
      ],
      "metadata": {
        "id": "pKqen8954_f5"
      }
    },
    {
      "cell_type": "code",
      "source": [
        "plt.figure(figsize=(8, 6))\n",
        "sns.heatmap(np.corrcoef(df.iloc[:,:4],rowvar=False), annot=True)\n",
        "plt.show()"
      ],
      "metadata": {
        "colab": {
          "base_uri": "https://localhost:8080/",
          "height": 0
        },
        "id": "yuXAd4ee35Yr",
        "outputId": "cb3e1657-2a14-4adf-bed1-03b90e01b9fa"
      },
      "execution_count": 152,
      "outputs": [
        {
          "output_type": "display_data",
          "data": {
            "text/plain": [
              "<Figure size 576x432 with 2 Axes>"
            ],
            "image/png": "[encoded data removed]"
          },
          "metadata": {
            "needs_background": "light"
          }
        }
      ]
    },
    {
      "cell_type": "code",
      "source": [
        "#Separando os Clusters\n",
        "d0 = df[df['cluster']== 0]\n",
        "d1 = df[df['cluster']== 1]\n",
        "d2 = df[df['cluster']== 2]"
      ],
      "metadata": {
        "id": "ufR48gdsQpfn"
      },
      "execution_count": 153,
      "outputs": []
    },
    {
      "cell_type": "markdown",
      "source": [
        "\n",
        "\n",
        "1.   **Time on App x Length of Membership**\n",
        "\n"
      ],
      "metadata": {
        "id": "iNQUST2J6HAu"
      }
    },
    {
      "cell_type": "code",
      "source": [
        "plt.scatter(d0['Time on App'], d0['Length of Membership'], label='Cluster 0', color=\"purple\")\n",
        "plt.scatter(d1['Time on App'], d1['Length of Membership'], label='Cluster 1', color=\"green\")\n",
        "plt.scatter(d2['Time on App'], d2['Length of Membership'], label='Cluster 2')\n",
        "plt.title('GMM - 3 Clusters')\n",
        "plt.xlabel('Time on App')\n",
        "plt.ylabel('Length of Membership')\n",
        "plt.legend()"
      ],
      "metadata": {
        "colab": {
          "base_uri": "https://localhost:8080/",
          "height": 0
        },
        "id": "lqj3G9qd6E67",
        "outputId": "ffe19a12-23c1-4651-a465-ac7e76fc2039"
      },
      "execution_count": 154,
      "outputs": [
        {
          "output_type": "execute_result",
          "data": {
            "text/plain": [
              "<matplotlib.legend.Legend at 0x7fbd14c808d0>"
            ]
          },
          "metadata": {},
          "execution_count": 154
        },
        {
          "output_type": "display_data",
          "data": {
            "text/plain": [
              "<Figure size 432x288 with 1 Axes>"
            ],
            "image/png": "[encoded data removed]"
          },
          "metadata": {
            "needs_background": "light"
          }
        }
      ]
    },
    {
      "cell_type": "markdown",
      "source": [
        "\n",
        "2.   **Time on Website x Length of Membership**"
      ],
      "metadata": {
        "id": "fztjrsXU_LCl"
      }
    },
    {
      "cell_type": "code",
      "source": [
        "plt.scatter(d0['Time on Website'], d0['Length of Membership'], label='Cluster 0', color=\"purple\")\n",
        "plt.scatter(d1['Time on Website'], d1['Length of Membership'], label='Cluster 1', color=\"green\")\n",
        "plt.scatter(d2['Time on Website'], d2['Length of Membership'], label='Cluster 2')\n",
        "plt.title('GMM - 3 Clusters')\n",
        "plt.xlabel('Time on App')\n",
        "plt.ylabel('Length of Membership')\n",
        "plt.legend()"
      ],
      "metadata": {
        "colab": {
          "base_uri": "https://localhost:8080/",
          "height": 0
        },
        "id": "ryVpWb2c7JKm",
        "outputId": "f737b781-483f-41a1-8c30-e40321b3cfae"
      },
      "execution_count": 155,
      "outputs": [
        {
          "output_type": "execute_result",
          "data": {
            "text/plain": [
              "<matplotlib.legend.Legend at 0x7fbd14de1cd0>"
            ]
          },
          "metadata": {},
          "execution_count": 155
        },
        {
          "output_type": "display_data",
          "data": {
            "text/plain": [
              "<Figure size 432x288 with 1 Axes>"
            ],
            "image/png": "[encoded data removed]"
          },
          "metadata": {
            "needs_background": "light"
          }
        }
      ]
    },
    {
      "cell_type": "markdown",
      "source": [
        "\n",
        "3.   **Time on App x Yearly Amount Spent**"
      ],
      "metadata": {
        "id": "R1LNCAJ9_SPe"
      }
    },
    {
      "cell_type": "code",
      "source": [
        "plt.scatter(d0['Time on App'], d0['Yearly Amount Spent'], label='Cluster 0', color=\"purple\")\n",
        "plt.scatter(d1['Time on App'], d1['Yearly Amount Spent'], label='Cluster 1', color=\"green\")\n",
        "plt.scatter(d2['Time on App'], d2['Yearly Amount Spent'], label='Cluster 2')\n",
        "plt.title('GMM - 3 Clusters')\n",
        "plt.xlabel('Time on App')\n",
        "plt.ylabel('Yearly Amount Spent')\n",
        "plt.legend()"
      ],
      "metadata": {
        "colab": {
          "base_uri": "https://localhost:8080/",
          "height": 0
        },
        "id": "1WKk_V-aiMay",
        "outputId": "b7ae7be3-cb0d-423e-a7fe-8e2921f4cbd2"
      },
      "execution_count": 156,
      "outputs": [
        {
          "output_type": "execute_result",
          "data": {
            "text/plain": [
              "<matplotlib.legend.Legend at 0x7fbd14a22b50>"
            ]
          },
          "metadata": {},
          "execution_count": 156
        },
        {
          "output_type": "display_data",
          "data": {
            "text/plain": [
              "<Figure size 432x288 with 1 Axes>"
            ],
            "image/png": "[encoded data removed]"
          },
          "metadata": {
            "needs_background": "light"
          }
        }
      ]
    },
    {
      "cell_type": "markdown",
      "source": [
        "4.   **Time on Website x Yearly Amount Spent**"
      ],
      "metadata": {
        "id": "G89keiHm_gVw"
      }
    },
    {
      "cell_type": "code",
      "source": [
        "plt.scatter(d0[\"Time on Website\"], d0[\"Yearly Amount Spent\"], label='Cluster 0', color=\"purple\")\n",
        "plt.scatter(d1[\"Time on Website\"], d1[\"Yearly Amount Spent\"], label='Cluster 1', color=\"green\")\n",
        "plt.scatter(d2[\"Time on Website\"], d2[\"Yearly Amount Spent\"], label='Cluster 2')\n",
        "plt.title('GMM - 3 Clusters')\n",
        "plt.xlabel('Time on Website')\n",
        "plt.ylabel('Yearly Amount Spent')\n",
        "plt.legend()"
      ],
      "metadata": {
        "colab": {
          "base_uri": "https://localhost:8080/",
          "height": 0
        },
        "id": "qajzpDDE8z06",
        "outputId": "96761e56-1966-441e-c048-7dc64cebc93c"
      },
      "execution_count": 157,
      "outputs": [
        {
          "output_type": "execute_result",
          "data": {
            "text/plain": [
              "<matplotlib.legend.Legend at 0x7fbd14a53750>"
            ]
          },
          "metadata": {},
          "execution_count": 157
        },
        {
          "output_type": "display_data",
          "data": {
            "text/plain": [
              "<Figure size 432x288 with 1 Axes>"
            ],
            "image/png": "[encoded data removed]"
          },
          "metadata": {
            "needs_background": "light"
          }
        }
      ]
    },
    {
      "cell_type": "code",
      "source": [
        "plt.figure(figsize=(8, 4))\n",
        "\n",
        "plt.subplot(131)\n",
        "plt.hist(d0[\"Time on App\"], 10, rwidth=0.9, color ='tan')\n",
        "plt.subplot(132)\n",
        "plt.hist(d1[\"Time on App\"], 10, rwidth=0.9, color ='purple')\n",
        "plt.subplot(133)\n",
        "plt.hist(d2[\"Time on App\"], 10, rwidth=0.9)\n",
        "plt.suptitle('Histograma dos cluters em relação ao \"Time on App\"')\n",
        "plt.show()"
      ],
      "metadata": {
        "colab": {
          "base_uri": "https://localhost:8080/",
          "height": 0
        },
        "id": "jF0UZpx-mQPd",
        "outputId": "8d5dc35d-4f93-4387-fbe7-e4c75ad501f0"
      },
      "execution_count": 158,
      "outputs": [
        {
          "output_type": "display_data",
          "data": {
            "text/plain": [
              "<Figure size 576x288 with 3 Axes>"
            ],
            "image/png": "[encoded data removed]"
          },
          "metadata": {
            "needs_background": "light"
          }
        }
      ]
    },
    {
      "cell_type": "code",
      "source": [
        "plt.figure(figsize=(8, 4))\n",
        "\n",
        "plt.subplot(131)\n",
        "plt.hist(d0[\"Time on Website\"], 10, rwidth=0.9, color ='tan')\n",
        "plt.subplot(132)\n",
        "plt.hist(d1[\"Time on Website\"], 10, rwidth=0.9, color ='purple')\n",
        "plt.subplot(133)\n",
        "plt.hist(d2[\"Time on Website\"], 10, rwidth=0.9)\n",
        "plt.suptitle('Histograma dos cluters em relação ao \"Time on Website\"')\n",
        "plt.show()"
      ],
      "metadata": {
        "colab": {
          "base_uri": "https://localhost:8080/",
          "height": 0
        },
        "id": "My-2RXXCnP9x",
        "outputId": "0f6bdef8-cf45-4944-e2f5-2e0514cb00dc"
      },
      "execution_count": 159,
      "outputs": [
        {
          "output_type": "display_data",
          "data": {
            "text/plain": [
              "<Figure size 576x288 with 3 Axes>"
            ],
            "image/png": "[encoded data removed]"
          },
          "metadata": {
            "needs_background": "light"
          }
        }
      ]
    },
    {
      "cell_type": "code",
      "source": [
        "plt.figure(figsize=(8, 4))\n",
        "\n",
        "plt.subplot(131)\n",
        "plt.hist(d0[\"Length of Membership\"], 10, rwidth=0.9, color ='tan')\n",
        "plt.subplot(132)\n",
        "plt.hist(d1[\"Length of Membership\"], 10, rwidth=0.9, color ='purple')\n",
        "plt.subplot(133)\n",
        "plt.hist(d2[\"Length of Membership\"], 10, rwidth=0.9)\n",
        "plt.suptitle('Histograma dos cluters em relação ao \"Length of Membership\"')\n",
        "plt.show()"
      ],
      "metadata": {
        "colab": {
          "base_uri": "https://localhost:8080/",
          "height": 0
        },
        "id": "ZO_yJtjpvyzU",
        "outputId": "1d543a14-0f3d-4d40-d3cd-e51c492686d2"
      },
      "execution_count": 160,
      "outputs": [
        {
          "output_type": "display_data",
          "data": {
            "text/plain": [
              "<Figure size 576x288 with 3 Axes>"
            ],
            "image/png": "[encoded data removed]"
          },
          "metadata": {
            "needs_background": "light"
          }
        }
      ]
    },
    {
      "cell_type": "code",
      "source": [
        "plt.figure(figsize=(8, 4))\n",
        "\n",
        "plt.subplot(131)\n",
        "plt.hist(d0[\"Yearly Amount Spent\"], 10, rwidth=0.9, color ='tan')\n",
        "plt.subplot(132)\n",
        "plt.hist(d1[\"Yearly Amount Spent\"], 10, rwidth=0.9, color ='purple')\n",
        "plt.subplot(133)\n",
        "plt.hist(d2[\"Yearly Amount Spent\"], 10, rwidth=0.9)\n",
        "plt.suptitle('Histograma dos cluters em relação ao \"Yearly Amount Spent\"')\n",
        "plt.show()"
      ],
      "metadata": {
        "colab": {
          "base_uri": "https://localhost:8080/",
          "height": 0
        },
        "id": "f0danQWYqLjj",
        "outputId": "354008f6-6b84-47d0-9304-73a2fda07063"
      },
      "execution_count": 161,
      "outputs": [
        {
          "output_type": "display_data",
          "data": {
            "text/plain": [
              "<Figure size 576x288 with 3 Axes>"
            ],
            "image/png": "[encoded data removed]"
          },
          "metadata": {
            "needs_background": "light"
          }
        }
      ]
    },
    {
      "cell_type": "markdown",
      "source": [
        "### Perguntas bônus"
      ],
      "metadata": {
        "id": "o4pG-hPZqAFj"
      }
    },
    {
      "cell_type": "markdown",
      "source": [
        "1.   Qual arquitetura você propõe para executar seu algoritmo em uma nuvem pública?\n",
        "2.   Conteinerização da aplicação\n",
        "\n"
      ],
      "metadata": {
        "id": "ozKS51prqQOF"
      }
    },
    {
      "cell_type": "code",
      "source": [
        ""
      ],
      "metadata": {
        "id": "25d0UNErqNSs"
      },
      "execution_count": null,
      "outputs": []
    }
  ]
}