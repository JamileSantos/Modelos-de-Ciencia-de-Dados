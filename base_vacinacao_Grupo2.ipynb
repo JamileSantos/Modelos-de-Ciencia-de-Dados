{
  "nbformat": 4,
  "nbformat_minor": 0,
  "metadata": {
    "colab": {
      "name": "base_vacinacao_Grupo2.ipynb",
      "provenance": [],
      "toc_visible": true,
      "include_colab_link": true
    },
    "kernelspec": {
      "name": "python3",
      "display_name": "Python 3"
    }
  },
  "cells": [
    {
      "cell_type": "markdown",
      "metadata": {
        "id": "view-in-github",
        "colab_type": "text"
      },
      "source": [
        "<a href=\"https://colab.research.google.com/github/JamileSantos/Modelos_Ciencia_de_Dados/blob/master/base_vacinacao_Grupo2.ipynb\" target=\"_parent\"><img src=\"https://colab.research.google.com/assets/colab-badge.svg\" alt=\"Open In Colab\"/></a>"
      ]
    },
    {
      "cell_type": "code",
      "metadata": {
        "id": "bY1V1c1JwDy2"
      },
      "source": [
        "# importando a biblioteca\r\n",
        "import pandas as pd # pandas\r\n",
        "import numpy as np  # numpy\r\n",
        "import matplotlib.pyplot as plt"
      ],
      "execution_count": null,
      "outputs": []
    },
    {
      "cell_type": "code",
      "metadata": {
        "colab": {
          "base_uri": "https://localhost:8080/"
        },
        "id": "E3OyiMhDzIgk",
        "outputId": "654a9162-511c-435e-b004-dbe8e9e18045"
      },
      "source": [
        "# Importando os dados para o Google Colab\n",
        "from google.colab import drive\n",
        "drive.mount('/content/drive')"
      ],
      "execution_count": null,
      "outputs": [
        {
          "output_type": "stream",
          "text": [
            "Drive already mounted at /content/drive; to attempt to forcibly remount, call drive.mount(\"/content/drive\", force_remount=True).\n"
          ],
          "name": "stdout"
        }
      ]
    },
    {
      "cell_type": "markdown",
      "metadata": {
        "id": "OevDcAKtxO_U"
      },
      "source": [
        "## Importando dados de Arquivo \".csv\""
      ]
    },
    {
      "cell_type": "code",
      "metadata": {
        "id": "T9dFGrUNzUg2",
        "colab": {
          "base_uri": "https://localhost:8080/",
          "height": 355
        },
        "outputId": "2334faef-5c26-473b-baa6-fdec31286dc0"
      },
      "source": [
        "# Importanto os dados\r\n",
        "dadosx = pd.read_csv('/content/drive/My Drive/base_vacina.csv')\r\n",
        "\r\n",
        "dadosx.head(3)"
      ],
      "execution_count": null,
      "outputs": [
        {
          "output_type": "execute_result",
          "data": {
            "text/html": [
              "<div>\n",
              "<style scoped>\n",
              "    .dataframe tbody tr th:only-of-type {\n",
              "        vertical-align: middle;\n",
              "    }\n",
              "\n",
              "    .dataframe tbody tr th {\n",
              "        vertical-align: top;\n",
              "    }\n",
              "\n",
              "    .dataframe thead th {\n",
              "        text-align: right;\n",
              "    }\n",
              "</style>\n",
              "<table border=\"1\" class=\"dataframe\">\n",
              "  <thead>\n",
              "    <tr style=\"text-align: right;\">\n",
              "      <th></th>\n",
              "      <th>document_id</th>\n",
              "      <th>paciente_id</th>\n",
              "      <th>paciente_idade</th>\n",
              "      <th>paciente_dataNascimento</th>\n",
              "      <th>paciente_enumSexoBiologico</th>\n",
              "      <th>paciente_racaCor_codigo</th>\n",
              "      <th>paciente_racaCor_valor</th>\n",
              "      <th>paciente_endereco_coIbgeMunicipio</th>\n",
              "      <th>paciente_endereco_coPais</th>\n",
              "      <th>paciente_endereco_nmMunicipio</th>\n",
              "      <th>paciente_endereco_nmPais</th>\n",
              "      <th>paciente_endereco_uf</th>\n",
              "      <th>paciente_endereco_cep</th>\n",
              "      <th>paciente_nacionalidade_enumNacionalidade</th>\n",
              "      <th>estabelecimento_valor</th>\n",
              "      <th>estabelecimento_razaoSocial</th>\n",
              "      <th>estalecimento_noFantasia</th>\n",
              "      <th>estabelecimento_municipio_codigo</th>\n",
              "      <th>estabelecimento_municipio_nome</th>\n",
              "      <th>estabelecimento_uf</th>\n",
              "      <th>vacina_grupoAtendimento_codigo</th>\n",
              "      <th>vacina_grupoAtendimento_nome</th>\n",
              "      <th>vacina_categoria_codigo</th>\n",
              "      <th>vacina_categoria_nome</th>\n",
              "      <th>vacina_lote</th>\n",
              "      <th>vacina_fabricante_nome</th>\n",
              "      <th>vacina_fabricante_referencia</th>\n",
              "      <th>vacina_dataAplicacao</th>\n",
              "      <th>vacina_descricao_dose</th>\n",
              "      <th>vacina_codigo</th>\n",
              "      <th>vacina_nome</th>\n",
              "      <th>sistema_origem</th>\n",
              "      <th>data_importacao_rnds</th>\n",
              "    </tr>\n",
              "  </thead>\n",
              "  <tbody>\n",
              "    <tr>\n",
              "      <th>0</th>\n",
              "      <td>60aeb975-94ed-4113-a8b0-ac55dbb8ab41-i0b0</td>\n",
              "      <td>433768b2c569be2ff29976dea5cddd0eeb907de38c254e...</td>\n",
              "      <td>79.0</td>\n",
              "      <td>1942-01-28</td>\n",
              "      <td>F</td>\n",
              "      <td>1.0</td>\n",
              "      <td>BRANCA</td>\n",
              "      <td>432225.0</td>\n",
              "      <td>10.0</td>\n",
              "      <td>TUPANDI</td>\n",
              "      <td>BRASIL</td>\n",
              "      <td>RS</td>\n",
              "      <td>95775.0</td>\n",
              "      <td>B</td>\n",
              "      <td>2227428</td>\n",
              "      <td>PREFEITURA MUNICIPAL DE SAO SEBASTIAO DO CAI</td>\n",
              "      <td>CENTRO DE SAUDE DR BRUNO CASSEL</td>\n",
              "      <td>431950.0</td>\n",
              "      <td>SAO SEBASTIAO DO CAI</td>\n",
              "      <td>RS</td>\n",
              "      <td>301</td>\n",
              "      <td>Pessoas de 60 nos ou mais Institucionalizadas</td>\n",
              "      <td>3.0</td>\n",
              "      <td>Pessoas de 60 anos ou mais institucionalizadas</td>\n",
              "      <td>210018A</td>\n",
              "      <td>FUNDACAO BUTANTAN</td>\n",
              "      <td>Organization/61189445000156</td>\n",
              "      <td>2021-02-16T03:00:00.000Z</td>\n",
              "      <td>2ª Dose</td>\n",
              "      <td>86</td>\n",
              "      <td>Covid-19-Coronavac-Sinovac/Butantan</td>\n",
              "      <td>Novo PNI</td>\n",
              "      <td>2021-02-19 03:20:03</td>\n",
              "    </tr>\n",
              "    <tr>\n",
              "      <th>1</th>\n",
              "      <td>b68c468e-8083-4cca-8da1-ea9a8decbaba-i0b0</td>\n",
              "      <td>8499ef2ad9174cee4bd4dac8ae172a706775f4c835cb17...</td>\n",
              "      <td>90.0</td>\n",
              "      <td>1930-09-11</td>\n",
              "      <td>M</td>\n",
              "      <td>2.0</td>\n",
              "      <td>PRETA</td>\n",
              "      <td>430930.0</td>\n",
              "      <td>10.0</td>\n",
              "      <td>GUAIBA</td>\n",
              "      <td>BRASIL</td>\n",
              "      <td>RS</td>\n",
              "      <td>92500.0</td>\n",
              "      <td>B</td>\n",
              "      <td>2225999</td>\n",
              "      <td>PREFEITURA MUNICIPAL DE GUAIBA</td>\n",
              "      <td>UNIDADE BASICA DE SAUDE COHAB</td>\n",
              "      <td>430930.0</td>\n",
              "      <td>GUAIBA</td>\n",
              "      <td>RS</td>\n",
              "      <td>205</td>\n",
              "      <td>Pessoas de 80 anos ou mais</td>\n",
              "      <td>2.0</td>\n",
              "      <td>Faixa Etária</td>\n",
              "      <td>210018A</td>\n",
              "      <td>FUNDACAO BUTANTAN</td>\n",
              "      <td>Organization/61189445000156</td>\n",
              "      <td>2021-02-11T03:00:00.000Z</td>\n",
              "      <td>1ª Dose</td>\n",
              "      <td>86</td>\n",
              "      <td>Covid-19-Coronavac-Sinovac/Butantan</td>\n",
              "      <td>Novo PNI</td>\n",
              "      <td>2021-02-19 16:04:01</td>\n",
              "    </tr>\n",
              "    <tr>\n",
              "      <th>2</th>\n",
              "      <td>db74d38d-be6e-4b1a-82d0-e2797c3b55e7-i0b0</td>\n",
              "      <td>1c8b855733d6ea88081712bd74f95ca36bef67ac83b168...</td>\n",
              "      <td>91.0</td>\n",
              "      <td>1929-06-25</td>\n",
              "      <td>F</td>\n",
              "      <td>1.0</td>\n",
              "      <td>BRANCA</td>\n",
              "      <td>316900.0</td>\n",
              "      <td>10.0</td>\n",
              "      <td>TOCANTINS</td>\n",
              "      <td>BRASIL</td>\n",
              "      <td>MG</td>\n",
              "      <td>36512.0</td>\n",
              "      <td>B</td>\n",
              "      <td>2162776</td>\n",
              "      <td>PREFEITURA MUNICIPAL DE TOCANTINS</td>\n",
              "      <td>CENTRO INTEGRADO DE SAUDE DE TOCANTINS</td>\n",
              "      <td>316900.0</td>\n",
              "      <td>TOCANTINS</td>\n",
              "      <td>MG</td>\n",
              "      <td>205</td>\n",
              "      <td>Pessoas de 80 anos ou mais</td>\n",
              "      <td>2.0</td>\n",
              "      <td>Faixa Etária</td>\n",
              "      <td>202010031</td>\n",
              "      <td>FUNDACAO BUTANTAN</td>\n",
              "      <td>Organization/61189445000156</td>\n",
              "      <td>2021-02-12T03:00:00.000Z</td>\n",
              "      <td>1ª Dose</td>\n",
              "      <td>86</td>\n",
              "      <td>Covid-19-Coronavac-Sinovac/Butantan</td>\n",
              "      <td>Novo PNI</td>\n",
              "      <td>2021-02-15 19:32:10</td>\n",
              "    </tr>\n",
              "  </tbody>\n",
              "</table>\n",
              "</div>"
            ],
            "text/plain": [
              "                                 document_id  ... data_importacao_rnds\n",
              "0  60aeb975-94ed-4113-a8b0-ac55dbb8ab41-i0b0  ...  2021-02-19 03:20:03\n",
              "1  b68c468e-8083-4cca-8da1-ea9a8decbaba-i0b0  ...  2021-02-19 16:04:01\n",
              "2  db74d38d-be6e-4b1a-82d0-e2797c3b55e7-i0b0  ...  2021-02-15 19:32:10\n",
              "\n",
              "[3 rows x 33 columns]"
            ]
          },
          "metadata": {
            "tags": []
          },
          "execution_count": 3
        }
      ]
    },
    {
      "cell_type": "code",
      "metadata": {
        "colab": {
          "base_uri": "https://localhost:8080/"
        },
        "id": "WzyvDYc7y3l-",
        "outputId": "1b11e1e0-c106-4c3d-ce83-83973596f832"
      },
      "source": [
        "# visualiza o total de registros\r\n",
        "print('Total de Registros :> ',len(dadosx))"
      ],
      "execution_count": null,
      "outputs": [
        {
          "output_type": "stream",
          "text": [
            "Total de Registros :>  7908949\n"
          ],
          "name": "stdout"
        }
      ]
    },
    {
      "cell_type": "code",
      "metadata": {
        "colab": {
          "base_uri": "https://localhost:8080/",
          "height": 285
        },
        "id": "KA2pqq82QeTA",
        "outputId": "da5b9c29-a3de-480d-f540-045ab45b597f"
      },
      "source": [
        "# Extraindo uma amostra de Dados por UF do estabelecimento\r\n",
        "\r\n",
        "estado_rj = dadosx[dadosx['estabelecimento_uf']=='RJ']\r\n",
        "estado_rj.head(3)"
      ],
      "execution_count": null,
      "outputs": [
        {
          "output_type": "execute_result",
          "data": {
            "text/html": [
              "<div>\n",
              "<style scoped>\n",
              "    .dataframe tbody tr th:only-of-type {\n",
              "        vertical-align: middle;\n",
              "    }\n",
              "\n",
              "    .dataframe tbody tr th {\n",
              "        vertical-align: top;\n",
              "    }\n",
              "\n",
              "    .dataframe thead th {\n",
              "        text-align: right;\n",
              "    }\n",
              "</style>\n",
              "<table border=\"1\" class=\"dataframe\">\n",
              "  <thead>\n",
              "    <tr style=\"text-align: right;\">\n",
              "      <th></th>\n",
              "      <th>document_id</th>\n",
              "      <th>paciente_id</th>\n",
              "      <th>paciente_idade</th>\n",
              "      <th>paciente_dataNascimento</th>\n",
              "      <th>paciente_enumSexoBiologico</th>\n",
              "      <th>paciente_racaCor_codigo</th>\n",
              "      <th>paciente_racaCor_valor</th>\n",
              "      <th>paciente_endereco_coIbgeMunicipio</th>\n",
              "      <th>paciente_endereco_coPais</th>\n",
              "      <th>paciente_endereco_nmMunicipio</th>\n",
              "      <th>paciente_endereco_nmPais</th>\n",
              "      <th>paciente_endereco_uf</th>\n",
              "      <th>paciente_endereco_cep</th>\n",
              "      <th>paciente_nacionalidade_enumNacionalidade</th>\n",
              "      <th>estabelecimento_valor</th>\n",
              "      <th>estabelecimento_razaoSocial</th>\n",
              "      <th>estalecimento_noFantasia</th>\n",
              "      <th>estabelecimento_municipio_codigo</th>\n",
              "      <th>estabelecimento_municipio_nome</th>\n",
              "      <th>estabelecimento_uf</th>\n",
              "      <th>vacina_grupoAtendimento_codigo</th>\n",
              "      <th>vacina_grupoAtendimento_nome</th>\n",
              "      <th>vacina_categoria_codigo</th>\n",
              "      <th>vacina_categoria_nome</th>\n",
              "      <th>vacina_lote</th>\n",
              "      <th>vacina_fabricante_nome</th>\n",
              "      <th>vacina_fabricante_referencia</th>\n",
              "      <th>vacina_dataAplicacao</th>\n",
              "      <th>vacina_descricao_dose</th>\n",
              "      <th>vacina_codigo</th>\n",
              "      <th>vacina_nome</th>\n",
              "      <th>sistema_origem</th>\n",
              "      <th>data_importacao_rnds</th>\n",
              "    </tr>\n",
              "  </thead>\n",
              "  <tbody>\n",
              "    <tr>\n",
              "      <th>69</th>\n",
              "      <td>8b6308bb-3914-4781-8abd-a15dcdf58b42-i0b0</td>\n",
              "      <td>bc7cff0d921fa6ab18d4f989212908ca706ebc7a3eb9db...</td>\n",
              "      <td>39.0</td>\n",
              "      <td>1981-11-24</td>\n",
              "      <td>F</td>\n",
              "      <td>99.0</td>\n",
              "      <td>SEM INFORMACAO</td>\n",
              "      <td>330455.0</td>\n",
              "      <td>10.0</td>\n",
              "      <td>RIO DE JANEIRO</td>\n",
              "      <td>BRASIL</td>\n",
              "      <td>RJ</td>\n",
              "      <td>20510.0</td>\n",
              "      <td>B</td>\n",
              "      <td>7873565</td>\n",
              "      <td>SMS RIO CF JOSE DE SOUZA HERDY AP 40</td>\n",
              "      <td>SMS CF JOSE DE SOUZA HERDY AP 40</td>\n",
              "      <td>330455.0</td>\n",
              "      <td>RIO DE JANEIRO</td>\n",
              "      <td>RJ</td>\n",
              "      <td>915</td>\n",
              "      <td>Nutricionista</td>\n",
              "      <td>9.0</td>\n",
              "      <td>Trabalhadores de Saúde</td>\n",
              "      <td>210011A</td>\n",
              "      <td>FUNDACAO BUTANTAN</td>\n",
              "      <td>Organization/61189445000156</td>\n",
              "      <td>2021-02-16T03:00:00.000Z</td>\n",
              "      <td>2ª Dose</td>\n",
              "      <td>86</td>\n",
              "      <td>Covid-19-Coronavac-Sinovac/Butantan</td>\n",
              "      <td>Novo PNI</td>\n",
              "      <td>2021-02-20 01:49:09</td>\n",
              "    </tr>\n",
              "    <tr>\n",
              "      <th>78</th>\n",
              "      <td>0e18ba11-0a6e-4d59-ad1d-545b32cc11fc-i0b0</td>\n",
              "      <td>bebecaf422997259cd169a30ee3cffb3338ef17f66d1f3...</td>\n",
              "      <td>64.0</td>\n",
              "      <td>1956-07-28</td>\n",
              "      <td>F</td>\n",
              "      <td>99.0</td>\n",
              "      <td>SEM INFORMACAO</td>\n",
              "      <td>330330.0</td>\n",
              "      <td>10.0</td>\n",
              "      <td>NITEROI</td>\n",
              "      <td>BRASIL</td>\n",
              "      <td>RJ</td>\n",
              "      <td>24120.0</td>\n",
              "      <td>B</td>\n",
              "      <td>12580</td>\n",
              "      <td>FUNDACAO MUNICIPAL DE SAUDE</td>\n",
              "      <td>POLICLINICA COMUNITARIA DR SERGIO AROUCA</td>\n",
              "      <td>330330.0</td>\n",
              "      <td>NITEROI</td>\n",
              "      <td>RJ</td>\n",
              "      <td>919</td>\n",
              "      <td>Psicólogo</td>\n",
              "      <td>9.0</td>\n",
              "      <td>Trabalhadores de Saúde</td>\n",
              "      <td>4120Z005</td>\n",
              "      <td>FUNDACAO OSWALDO CRUZ</td>\n",
              "      <td>Organization/33781055000135</td>\n",
              "      <td>2021-02-04T03:00:00.000Z</td>\n",
              "      <td>1ª Dose</td>\n",
              "      <td>85</td>\n",
              "      <td>Vacina Covid-19 - Covishield</td>\n",
              "      <td>Novo PNI</td>\n",
              "      <td>2021-02-12 22:22:06</td>\n",
              "    </tr>\n",
              "    <tr>\n",
              "      <th>118</th>\n",
              "      <td>cc86de35-3743-41bb-9036-f64e26e76edb-i0b0</td>\n",
              "      <td>7f18c0668751ab4ba0fe18e6c4bb97557be27923f322eb...</td>\n",
              "      <td>86.0</td>\n",
              "      <td>1934-02-20</td>\n",
              "      <td>F</td>\n",
              "      <td>99.0</td>\n",
              "      <td>SEM INFORMACAO</td>\n",
              "      <td>330455.0</td>\n",
              "      <td>10.0</td>\n",
              "      <td>RIO DE JANEIRO</td>\n",
              "      <td>BRASIL</td>\n",
              "      <td>RJ</td>\n",
              "      <td>20550.0</td>\n",
              "      <td>B</td>\n",
              "      <td>2269376</td>\n",
              "      <td>SMS RIO CMS HEITOR BELTRAO AP 22</td>\n",
              "      <td>SMS CMS HEITOR BELTRAO AP 22</td>\n",
              "      <td>330455.0</td>\n",
              "      <td>RIO DE JANEIRO</td>\n",
              "      <td>RJ</td>\n",
              "      <td>301</td>\n",
              "      <td>Pessoas de 60 nos ou mais Institucionalizadas</td>\n",
              "      <td>3.0</td>\n",
              "      <td>Pessoas de 60 anos ou mais institucionalizadas</td>\n",
              "      <td>202009015</td>\n",
              "      <td>FUNDACAO BUTANTAN</td>\n",
              "      <td>Organization/61189445000156</td>\n",
              "      <td>2021-02-11T03:00:00.000Z</td>\n",
              "      <td>1ª Dose</td>\n",
              "      <td>86</td>\n",
              "      <td>Covid-19-Coronavac-Sinovac/Butantan</td>\n",
              "      <td>Novo PNI</td>\n",
              "      <td>2021-02-18 14:29:52</td>\n",
              "    </tr>\n",
              "  </tbody>\n",
              "</table>\n",
              "</div>"
            ],
            "text/plain": [
              "                                   document_id  ... data_importacao_rnds\n",
              "69   8b6308bb-3914-4781-8abd-a15dcdf58b42-i0b0  ...  2021-02-20 01:49:09\n",
              "78   0e18ba11-0a6e-4d59-ad1d-545b32cc11fc-i0b0  ...  2021-02-12 22:22:06\n",
              "118  cc86de35-3743-41bb-9036-f64e26e76edb-i0b0  ...  2021-02-18 14:29:52\n",
              "\n",
              "[3 rows x 33 columns]"
            ]
          },
          "metadata": {
            "tags": []
          },
          "execution_count": 5
        }
      ]
    },
    {
      "cell_type": "code",
      "metadata": {
        "colab": {
          "base_uri": "https://localhost:8080/",
          "height": 730
        },
        "id": "lTlh0NuCp32O",
        "outputId": "3f2d15dd-e192-4411-f05f-cf785cc88229"
      },
      "source": [
        "## Extraindo dados dos Pacientes que moram no RJ\r\n",
        "\r\n",
        "estado_rj_paciente = dadosx[dadosx['paciente_endereco_nmMunicipio']=='RIO DE JANEIRO']\r\n",
        "estado_rj_paciente.head(10)"
      ],
      "execution_count": null,
      "outputs": [
        {
          "output_type": "execute_result",
          "data": {
            "text/html": [
              "<div>\n",
              "<style scoped>\n",
              "    .dataframe tbody tr th:only-of-type {\n",
              "        vertical-align: middle;\n",
              "    }\n",
              "\n",
              "    .dataframe tbody tr th {\n",
              "        vertical-align: top;\n",
              "    }\n",
              "\n",
              "    .dataframe thead th {\n",
              "        text-align: right;\n",
              "    }\n",
              "</style>\n",
              "<table border=\"1\" class=\"dataframe\">\n",
              "  <thead>\n",
              "    <tr style=\"text-align: right;\">\n",
              "      <th></th>\n",
              "      <th>document_id</th>\n",
              "      <th>paciente_id</th>\n",
              "      <th>paciente_idade</th>\n",
              "      <th>paciente_dataNascimento</th>\n",
              "      <th>paciente_enumSexoBiologico</th>\n",
              "      <th>paciente_racaCor_codigo</th>\n",
              "      <th>paciente_racaCor_valor</th>\n",
              "      <th>paciente_endereco_coIbgeMunicipio</th>\n",
              "      <th>paciente_endereco_coPais</th>\n",
              "      <th>paciente_endereco_nmMunicipio</th>\n",
              "      <th>paciente_endereco_nmPais</th>\n",
              "      <th>paciente_endereco_uf</th>\n",
              "      <th>paciente_endereco_cep</th>\n",
              "      <th>paciente_nacionalidade_enumNacionalidade</th>\n",
              "      <th>estabelecimento_valor</th>\n",
              "      <th>estabelecimento_razaoSocial</th>\n",
              "      <th>estalecimento_noFantasia</th>\n",
              "      <th>estabelecimento_municipio_codigo</th>\n",
              "      <th>estabelecimento_municipio_nome</th>\n",
              "      <th>estabelecimento_uf</th>\n",
              "      <th>vacina_grupoAtendimento_codigo</th>\n",
              "      <th>vacina_grupoAtendimento_nome</th>\n",
              "      <th>vacina_categoria_codigo</th>\n",
              "      <th>vacina_categoria_nome</th>\n",
              "      <th>vacina_lote</th>\n",
              "      <th>vacina_fabricante_nome</th>\n",
              "      <th>vacina_fabricante_referencia</th>\n",
              "      <th>vacina_dataAplicacao</th>\n",
              "      <th>vacina_descricao_dose</th>\n",
              "      <th>vacina_codigo</th>\n",
              "      <th>vacina_nome</th>\n",
              "      <th>sistema_origem</th>\n",
              "      <th>data_importacao_rnds</th>\n",
              "    </tr>\n",
              "  </thead>\n",
              "  <tbody>\n",
              "    <tr>\n",
              "      <th>69</th>\n",
              "      <td>8b6308bb-3914-4781-8abd-a15dcdf58b42-i0b0</td>\n",
              "      <td>bc7cff0d921fa6ab18d4f989212908ca706ebc7a3eb9db...</td>\n",
              "      <td>39.0</td>\n",
              "      <td>1981-11-24</td>\n",
              "      <td>F</td>\n",
              "      <td>99.0</td>\n",
              "      <td>SEM INFORMACAO</td>\n",
              "      <td>330455.0</td>\n",
              "      <td>10.0</td>\n",
              "      <td>RIO DE JANEIRO</td>\n",
              "      <td>BRASIL</td>\n",
              "      <td>RJ</td>\n",
              "      <td>20510.0</td>\n",
              "      <td>B</td>\n",
              "      <td>7873565</td>\n",
              "      <td>SMS RIO CF JOSE DE SOUZA HERDY AP 40</td>\n",
              "      <td>SMS CF JOSE DE SOUZA HERDY AP 40</td>\n",
              "      <td>330455.0</td>\n",
              "      <td>RIO DE JANEIRO</td>\n",
              "      <td>RJ</td>\n",
              "      <td>915</td>\n",
              "      <td>Nutricionista</td>\n",
              "      <td>9.0</td>\n",
              "      <td>Trabalhadores de Saúde</td>\n",
              "      <td>210011A</td>\n",
              "      <td>FUNDACAO BUTANTAN</td>\n",
              "      <td>Organization/61189445000156</td>\n",
              "      <td>2021-02-16T03:00:00.000Z</td>\n",
              "      <td>2ª Dose</td>\n",
              "      <td>86</td>\n",
              "      <td>Covid-19-Coronavac-Sinovac/Butantan</td>\n",
              "      <td>Novo PNI</td>\n",
              "      <td>2021-02-20 01:49:09</td>\n",
              "    </tr>\n",
              "    <tr>\n",
              "      <th>118</th>\n",
              "      <td>cc86de35-3743-41bb-9036-f64e26e76edb-i0b0</td>\n",
              "      <td>7f18c0668751ab4ba0fe18e6c4bb97557be27923f322eb...</td>\n",
              "      <td>86.0</td>\n",
              "      <td>1934-02-20</td>\n",
              "      <td>F</td>\n",
              "      <td>99.0</td>\n",
              "      <td>SEM INFORMACAO</td>\n",
              "      <td>330455.0</td>\n",
              "      <td>10.0</td>\n",
              "      <td>RIO DE JANEIRO</td>\n",
              "      <td>BRASIL</td>\n",
              "      <td>RJ</td>\n",
              "      <td>20550.0</td>\n",
              "      <td>B</td>\n",
              "      <td>2269376</td>\n",
              "      <td>SMS RIO CMS HEITOR BELTRAO AP 22</td>\n",
              "      <td>SMS CMS HEITOR BELTRAO AP 22</td>\n",
              "      <td>330455.0</td>\n",
              "      <td>RIO DE JANEIRO</td>\n",
              "      <td>RJ</td>\n",
              "      <td>301</td>\n",
              "      <td>Pessoas de 60 nos ou mais Institucionalizadas</td>\n",
              "      <td>3.0</td>\n",
              "      <td>Pessoas de 60 anos ou mais institucionalizadas</td>\n",
              "      <td>202009015</td>\n",
              "      <td>FUNDACAO BUTANTAN</td>\n",
              "      <td>Organization/61189445000156</td>\n",
              "      <td>2021-02-11T03:00:00.000Z</td>\n",
              "      <td>1ª Dose</td>\n",
              "      <td>86</td>\n",
              "      <td>Covid-19-Coronavac-Sinovac/Butantan</td>\n",
              "      <td>Novo PNI</td>\n",
              "      <td>2021-02-18 14:29:52</td>\n",
              "    </tr>\n",
              "    <tr>\n",
              "      <th>137</th>\n",
              "      <td>b8f7d175-ead5-4a24-ae88-bb49103bf6ab-i0b0</td>\n",
              "      <td>1d56ff050247f4b4bae2cd44d0e42e75787f4baefa39f5...</td>\n",
              "      <td>27.0</td>\n",
              "      <td>1993-12-01</td>\n",
              "      <td>F</td>\n",
              "      <td>1.0</td>\n",
              "      <td>BRANCA</td>\n",
              "      <td>330455.0</td>\n",
              "      <td>10.0</td>\n",
              "      <td>RIO DE JANEIRO</td>\n",
              "      <td>BRASIL</td>\n",
              "      <td>RJ</td>\n",
              "      <td>NaN</td>\n",
              "      <td>B</td>\n",
              "      <td>2269902</td>\n",
              "      <td>SMS RIO CMS DOUTOR JOSE BREVES DOS SANTOS AP 31</td>\n",
              "      <td>SMS CMS JOSE BREVES DOS SANTOS AP 31</td>\n",
              "      <td>330455.0</td>\n",
              "      <td>RIO DE JANEIRO</td>\n",
              "      <td>RJ</td>\n",
              "      <td>923</td>\n",
              "      <td>Técnico de Enfermagem</td>\n",
              "      <td>9.0</td>\n",
              "      <td>Trabalhadores de Saúde</td>\n",
              "      <td>4120Z005</td>\n",
              "      <td>FUNDACAO OSWALDO CRUZ</td>\n",
              "      <td>Organization/33781055000135</td>\n",
              "      <td>2021-02-01T03:00:00.000Z</td>\n",
              "      <td>1ª Dose</td>\n",
              "      <td>85</td>\n",
              "      <td>Vacina Covid-19 - Covishield</td>\n",
              "      <td>Novo PNI</td>\n",
              "      <td>2021-02-01 17:34:57</td>\n",
              "    </tr>\n",
              "    <tr>\n",
              "      <th>164</th>\n",
              "      <td>d25a1f02-355d-4b92-88dc-91c0e0dda704-i0b0</td>\n",
              "      <td>36555374e8243b1cab283fa7e38169f8cda5813e58b670...</td>\n",
              "      <td>77.0</td>\n",
              "      <td>1943-10-28</td>\n",
              "      <td>F</td>\n",
              "      <td>1.0</td>\n",
              "      <td>BRANCA</td>\n",
              "      <td>330455.0</td>\n",
              "      <td>10.0</td>\n",
              "      <td>RIO DE JANEIRO</td>\n",
              "      <td>BRASIL</td>\n",
              "      <td>RJ</td>\n",
              "      <td>22783.0</td>\n",
              "      <td>B</td>\n",
              "      <td>2289458</td>\n",
              "      <td>SMS BELFORD ROXO</td>\n",
              "      <td>PRS HELIOPOLIS MONSENHOR SOLANO DE MENEZES</td>\n",
              "      <td>330045.0</td>\n",
              "      <td>BELFORD ROXO</td>\n",
              "      <td>RJ</td>\n",
              "      <td>205</td>\n",
              "      <td>Pessoas de 80 anos ou mais</td>\n",
              "      <td>2.0</td>\n",
              "      <td>Faixa Etária</td>\n",
              "      <td>210011A</td>\n",
              "      <td>FUNDACAO BUTANTAN</td>\n",
              "      <td>Organization/61189445000156</td>\n",
              "      <td>2021-02-18T03:00:00.000Z</td>\n",
              "      <td>1ª Dose</td>\n",
              "      <td>86</td>\n",
              "      <td>Covid-19-Coronavac-Sinovac/Butantan</td>\n",
              "      <td>Novo PNI</td>\n",
              "      <td>2021-02-26 12:09:16</td>\n",
              "    </tr>\n",
              "    <tr>\n",
              "      <th>176</th>\n",
              "      <td>e62ea991-bb7a-4ef3-af88-2e377cc7b45d-i0b0</td>\n",
              "      <td>4d39a8db2a9378d38764e6a6c727419d37e08976b35ad8...</td>\n",
              "      <td>61.0</td>\n",
              "      <td>1960-01-21</td>\n",
              "      <td>M</td>\n",
              "      <td>3.0</td>\n",
              "      <td>PARDA</td>\n",
              "      <td>330455.0</td>\n",
              "      <td>10.0</td>\n",
              "      <td>RIO DE JANEIRO</td>\n",
              "      <td>BRASIL</td>\n",
              "      <td>RJ</td>\n",
              "      <td>21866.0</td>\n",
              "      <td>B</td>\n",
              "      <td>5546583</td>\n",
              "      <td>SMS RIO CMS CATIRI AP 51</td>\n",
              "      <td>SMS CMS CATIRI AP 51</td>\n",
              "      <td>330455.0</td>\n",
              "      <td>RIO DE JANEIRO</td>\n",
              "      <td>RJ</td>\n",
              "      <td>926</td>\n",
              "      <td>Outros</td>\n",
              "      <td>9.0</td>\n",
              "      <td>Trabalhadores de Saúde</td>\n",
              "      <td>202009015</td>\n",
              "      <td>FUNDACAO BUTANTAN</td>\n",
              "      <td>Organization/61189445000156</td>\n",
              "      <td>2021-02-16T03:00:00.000Z</td>\n",
              "      <td>2ª Dose</td>\n",
              "      <td>86</td>\n",
              "      <td>Covid-19-Coronavac-Sinovac/Butantan</td>\n",
              "      <td>Novo PNI</td>\n",
              "      <td>2021-02-16 18:22:41</td>\n",
              "    </tr>\n",
              "    <tr>\n",
              "      <th>209</th>\n",
              "      <td>afbec498-78b6-49a3-a8b5-558eaf1ddfc6-i0b0</td>\n",
              "      <td>6871fb3159bd97fb3cbe1b4c4d0e6b5a78e0934f5714df...</td>\n",
              "      <td>80.0</td>\n",
              "      <td>1940-11-19</td>\n",
              "      <td>F</td>\n",
              "      <td>3.0</td>\n",
              "      <td>PARDA</td>\n",
              "      <td>330455.0</td>\n",
              "      <td>10.0</td>\n",
              "      <td>RIO DE JANEIRO</td>\n",
              "      <td>BRASIL</td>\n",
              "      <td>RJ</td>\n",
              "      <td>20271.0</td>\n",
              "      <td>B</td>\n",
              "      <td>7414226</td>\n",
              "      <td>SMS RIO CMS HELIO PELLEGRINO AP 22</td>\n",
              "      <td>SMS CMS HELIO PELLEGRINO AP 22</td>\n",
              "      <td>330455.0</td>\n",
              "      <td>RIO DE JANEIRO</td>\n",
              "      <td>RJ</td>\n",
              "      <td>205</td>\n",
              "      <td>Pessoas de 80 anos ou mais</td>\n",
              "      <td>2.0</td>\n",
              "      <td>Faixa Etária</td>\n",
              "      <td>4120Z026</td>\n",
              "      <td>FUNDACAO OSWALDO CRUZ</td>\n",
              "      <td>Organization/33781055000135</td>\n",
              "      <td>2021-02-27T03:00:00.000Z</td>\n",
              "      <td>1ª Dose</td>\n",
              "      <td>85</td>\n",
              "      <td>Vacina Covid-19 - Covishield</td>\n",
              "      <td>Novo PNI</td>\n",
              "      <td>2021-02-27 14:25:04</td>\n",
              "    </tr>\n",
              "    <tr>\n",
              "      <th>210</th>\n",
              "      <td>aeae8990-b66e-4b77-966f-56f06c83a217-i0b0</td>\n",
              "      <td>d7e331d57507419706cf8826567ec24197d6c0c54ef9cd...</td>\n",
              "      <td>83.0</td>\n",
              "      <td>1937-11-18</td>\n",
              "      <td>M</td>\n",
              "      <td>99.0</td>\n",
              "      <td>SEM INFORMACAO</td>\n",
              "      <td>330455.0</td>\n",
              "      <td>10.0</td>\n",
              "      <td>RIO DE JANEIRO</td>\n",
              "      <td>BRASIL</td>\n",
              "      <td>RJ</td>\n",
              "      <td>22080.0</td>\n",
              "      <td>B</td>\n",
              "      <td>2280795</td>\n",
              "      <td>SMS RIO CMS JOAO BARROS BARRETO AP 21</td>\n",
              "      <td>SMS CMS JOAO BARROS BARRETO AP 21</td>\n",
              "      <td>330455.0</td>\n",
              "      <td>RIO DE JANEIRO</td>\n",
              "      <td>RJ</td>\n",
              "      <td>205</td>\n",
              "      <td>Pessoas de 80 anos ou mais</td>\n",
              "      <td>2.0</td>\n",
              "      <td>Faixa Etária</td>\n",
              "      <td>210011A</td>\n",
              "      <td>FUNDACAO BUTANTAN</td>\n",
              "      <td>Organization/61189445000156</td>\n",
              "      <td>2021-02-16T03:00:00.000Z</td>\n",
              "      <td>1ª Dose</td>\n",
              "      <td>86</td>\n",
              "      <td>Covid-19-Coronavac-Sinovac/Butantan</td>\n",
              "      <td>Novo PNI</td>\n",
              "      <td>2021-02-22 14:28:26</td>\n",
              "    </tr>\n",
              "    <tr>\n",
              "      <th>224</th>\n",
              "      <td>5a20e342-fad5-4dab-ae68-e2bf254ce114-i0b0</td>\n",
              "      <td>f568f9c5e002a96992375930ce15de6a36d1ede15a93aa...</td>\n",
              "      <td>92.0</td>\n",
              "      <td>1929-01-10</td>\n",
              "      <td>F</td>\n",
              "      <td>1.0</td>\n",
              "      <td>BRANCA</td>\n",
              "      <td>330455.0</td>\n",
              "      <td>10.0</td>\n",
              "      <td>RIO DE JANEIRO</td>\n",
              "      <td>BRASIL</td>\n",
              "      <td>RJ</td>\n",
              "      <td>20931.0</td>\n",
              "      <td>B</td>\n",
              "      <td>2277298</td>\n",
              "      <td>SMS RIO CF FERNANDO ANTONIO BRAGA LOPES AP 10</td>\n",
              "      <td>SMS CF FERNANDO A BRAGA LOPES AP 10</td>\n",
              "      <td>330455.0</td>\n",
              "      <td>RIO DE JANEIRO</td>\n",
              "      <td>RJ</td>\n",
              "      <td>301</td>\n",
              "      <td>Pessoas de 60 nos ou mais Institucionalizadas</td>\n",
              "      <td>3.0</td>\n",
              "      <td>Pessoas de 60 anos ou mais institucionalizadas</td>\n",
              "      <td>210017</td>\n",
              "      <td>FUNDACAO BUTANTAN</td>\n",
              "      <td>Organization/61189445000156</td>\n",
              "      <td>2021-02-26T03:00:00.000Z</td>\n",
              "      <td>2ª Dose</td>\n",
              "      <td>86</td>\n",
              "      <td>Covid-19-Coronavac-Sinovac/Butantan</td>\n",
              "      <td>Novo PNI</td>\n",
              "      <td>2021-02-27 15:04:57</td>\n",
              "    </tr>\n",
              "    <tr>\n",
              "      <th>263</th>\n",
              "      <td>5c1d3622-1af6-4eb1-ad3c-b27db4d4f982-i0b0</td>\n",
              "      <td>75ba0f4089d4e9325241e0e9338c1186edeb5eaca4b389...</td>\n",
              "      <td>88.0</td>\n",
              "      <td>1932-10-03</td>\n",
              "      <td>F</td>\n",
              "      <td>99.0</td>\n",
              "      <td>SEM INFORMACAO</td>\n",
              "      <td>330455.0</td>\n",
              "      <td>10.0</td>\n",
              "      <td>RIO DE JANEIRO</td>\n",
              "      <td>BRASIL</td>\n",
              "      <td>RJ</td>\n",
              "      <td>20771.0</td>\n",
              "      <td>B</td>\n",
              "      <td>7996675</td>\n",
              "      <td>SMS RIO CF GERSON BERGHER AP 40</td>\n",
              "      <td>SMS CF GERSON BERGHER AP 40</td>\n",
              "      <td>330455.0</td>\n",
              "      <td>RIO DE JANEIRO</td>\n",
              "      <td>RJ</td>\n",
              "      <td>205</td>\n",
              "      <td>Pessoas de 80 anos ou mais</td>\n",
              "      <td>2.0</td>\n",
              "      <td>Faixa Etária</td>\n",
              "      <td>202009015</td>\n",
              "      <td>FUNDACAO BUTANTAN</td>\n",
              "      <td>Organization/61189445000156</td>\n",
              "      <td>2021-02-11T03:00:00.000Z</td>\n",
              "      <td>1ª Dose</td>\n",
              "      <td>86</td>\n",
              "      <td>Covid-19-Coronavac-Sinovac/Butantan</td>\n",
              "      <td>Novo PNI</td>\n",
              "      <td>2021-02-11 15:28:00</td>\n",
              "    </tr>\n",
              "    <tr>\n",
              "      <th>281</th>\n",
              "      <td>48ac8add-a6ec-4a5b-9d90-e0a996db6438-i0b0</td>\n",
              "      <td>52954945bbbc88369c13c5c994b7d9addb26d496b595c3...</td>\n",
              "      <td>65.0</td>\n",
              "      <td>1955-11-08</td>\n",
              "      <td>F</td>\n",
              "      <td>3.0</td>\n",
              "      <td>PARDA</td>\n",
              "      <td>330455.0</td>\n",
              "      <td>10.0</td>\n",
              "      <td>RIO DE JANEIRO</td>\n",
              "      <td>BRASIL</td>\n",
              "      <td>RJ</td>\n",
              "      <td>NaN</td>\n",
              "      <td>B</td>\n",
              "      <td>2269929</td>\n",
              "      <td>SMS RIO CMS DR CATTAPRETA AP 53</td>\n",
              "      <td>SMS CMS CATTAPRETA AP 53</td>\n",
              "      <td>330455.0</td>\n",
              "      <td>RIO DE JANEIRO</td>\n",
              "      <td>RJ</td>\n",
              "      <td>301</td>\n",
              "      <td>Pessoas de 60 nos ou mais Institucionalizadas</td>\n",
              "      <td>3.0</td>\n",
              "      <td>Pessoas de 60 anos ou mais institucionalizadas</td>\n",
              "      <td>210011A</td>\n",
              "      <td>FUNDACAO BUTANTAN</td>\n",
              "      <td>Organization/61189445000156</td>\n",
              "      <td>2021-02-16T03:00:00.000Z</td>\n",
              "      <td>2ª Dose</td>\n",
              "      <td>86</td>\n",
              "      <td>Covid-19-Coronavac-Sinovac/Butantan</td>\n",
              "      <td>Novo PNI</td>\n",
              "      <td>2021-02-16 14:51:23</td>\n",
              "    </tr>\n",
              "  </tbody>\n",
              "</table>\n",
              "</div>"
            ],
            "text/plain": [
              "                                   document_id  ... data_importacao_rnds\n",
              "69   8b6308bb-3914-4781-8abd-a15dcdf58b42-i0b0  ...  2021-02-20 01:49:09\n",
              "118  cc86de35-3743-41bb-9036-f64e26e76edb-i0b0  ...  2021-02-18 14:29:52\n",
              "137  b8f7d175-ead5-4a24-ae88-bb49103bf6ab-i0b0  ...  2021-02-01 17:34:57\n",
              "164  d25a1f02-355d-4b92-88dc-91c0e0dda704-i0b0  ...  2021-02-26 12:09:16\n",
              "176  e62ea991-bb7a-4ef3-af88-2e377cc7b45d-i0b0  ...  2021-02-16 18:22:41\n",
              "209  afbec498-78b6-49a3-a8b5-558eaf1ddfc6-i0b0  ...  2021-02-27 14:25:04\n",
              "210  aeae8990-b66e-4b77-966f-56f06c83a217-i0b0  ...  2021-02-22 14:28:26\n",
              "224  5a20e342-fad5-4dab-ae68-e2bf254ce114-i0b0  ...  2021-02-27 15:04:57\n",
              "263  5c1d3622-1af6-4eb1-ad3c-b27db4d4f982-i0b0  ...  2021-02-11 15:28:00\n",
              "281  48ac8add-a6ec-4a5b-9d90-e0a996db6438-i0b0  ...  2021-02-16 14:51:23\n",
              "\n",
              "[10 rows x 33 columns]"
            ]
          },
          "metadata": {
            "tags": []
          },
          "execution_count": 16
        }
      ]
    },
    {
      "cell_type": "code",
      "metadata": {
        "colab": {
          "base_uri": "https://localhost:8080/"
        },
        "id": "RH8yCRDBq-Ab",
        "outputId": "cc5ba40a-0310-420b-f65c-cd50a05fa5ec"
      },
      "source": [
        "# visualiza o total de registros\r\n",
        "print('Total de Registros de Pacientes :> ',len(estado_rj_paciente))"
      ],
      "execution_count": null,
      "outputs": [
        {
          "output_type": "stream",
          "text": [
            "Total de Registros de Pacientes :>  291063\n"
          ],
          "name": "stdout"
        }
      ]
    },
    {
      "cell_type": "markdown",
      "metadata": {
        "id": "Qe6bu0wDxB1B"
      },
      "source": [
        "# Tratamentos dos dados\r\n",
        " \r\n",
        "1.   Verificar se existe a falta de dados, dados nulos, etc.\r\n",
        "2.    Se existe falta de dados, por exemplo, usar os métodos que usa o pandas vistos na última aula. Cada dataset tem suas próprias características.\r\n",
        "\r\n",
        "\r\n",
        "3. Antes de aplicar qualquer método, devem pensar sobre o dado ou os dados, eles são relevantes para o estudo? Eliminar? substituir? usar Zero? Por quê?\r\n",
        "4. Sobre os métodos de visualização: \r\n",
        "  1. Estático (Matplotlib, ..). \r\n",
        "  2. Interativo (plotly, ...)\r\n"
      ]
    },
    {
      "cell_type": "code",
      "metadata": {
        "colab": {
          "base_uri": "https://localhost:8080/"
        },
        "id": "w7rtA0eChJo8",
        "outputId": "76685ad1-7398-42ba-d70b-7562874b1006"
      },
      "source": [
        "#Filtering rows with null values\r\n",
        "dadosx.isnull().sum()"
      ],
      "execution_count": null,
      "outputs": [
        {
          "output_type": "execute_result",
          "data": {
            "text/plain": [
              "document_id                                       0\n",
              "paciente_id                                       1\n",
              "paciente_idade                                    1\n",
              "paciente_dataNascimento                           1\n",
              "paciente_enumSexoBiologico                        1\n",
              "paciente_racaCor_codigo                           1\n",
              "paciente_racaCor_valor                            1\n",
              "paciente_endereco_coIbgeMunicipio             43868\n",
              "paciente_endereco_coPais                      43748\n",
              "paciente_endereco_nmMunicipio                 43814\n",
              "paciente_endereco_nmPais                      43748\n",
              "paciente_endereco_uf                          43868\n",
              "paciente_endereco_cep                       1393174\n",
              "paciente_nacionalidade_enumNacionalidade      12772\n",
              "estabelecimento_valor                             0\n",
              "estabelecimento_razaoSocial                     376\n",
              "estalecimento_noFantasia                        376\n",
              "estabelecimento_municipio_codigo                376\n",
              "estabelecimento_municipio_nome                  376\n",
              "estabelecimento_uf                              376\n",
              "vacina_grupoAtendimento_codigo                    0\n",
              "vacina_grupoAtendimento_nome                  96005\n",
              "vacina_categoria_codigo                       96005\n",
              "vacina_categoria_nome                         96005\n",
              "vacina_lote                                       0\n",
              "vacina_fabricante_nome                       155783\n",
              "vacina_fabricante_referencia                3120939\n",
              "vacina_dataAplicacao                              0\n",
              "vacina_descricao_dose                             0\n",
              "vacina_codigo                                     0\n",
              "vacina_nome                                       0\n",
              "sistema_origem                               101947\n",
              "data_importacao_rnds                              0\n",
              "dtype: int64"
            ]
          },
          "metadata": {
            "tags": []
          },
          "execution_count": 13
        }
      ]
    },
    {
      "cell_type": "code",
      "metadata": {
        "colab": {
          "base_uri": "https://localhost:8080/"
        },
        "id": "ZUG_jP9IRqp5",
        "outputId": "fe042e25-09ea-42a2-955b-68b0e5bfa495"
      },
      "source": [
        "dadosx.info()"
      ],
      "execution_count": null,
      "outputs": [
        {
          "output_type": "stream",
          "text": [
            "<class 'pandas.core.frame.DataFrame'>\n",
            "RangeIndex: 7908949 entries, 0 to 7908948\n",
            "Data columns (total 33 columns):\n",
            " #   Column                                    Dtype  \n",
            "---  ------                                    -----  \n",
            " 0   document_id                               object \n",
            " 1   paciente_id                               object \n",
            " 2   paciente_idade                            float64\n",
            " 3   paciente_dataNascimento                   object \n",
            " 4   paciente_enumSexoBiologico                object \n",
            " 5   paciente_racaCor_codigo                   float64\n",
            " 6   paciente_racaCor_valor                    object \n",
            " 7   paciente_endereco_coIbgeMunicipio         float64\n",
            " 8   paciente_endereco_coPais                  float64\n",
            " 9   paciente_endereco_nmMunicipio             object \n",
            " 10  paciente_endereco_nmPais                  object \n",
            " 11  paciente_endereco_uf                      object \n",
            " 12  paciente_endereco_cep                     float64\n",
            " 13  paciente_nacionalidade_enumNacionalidade  object \n",
            " 14  estabelecimento_valor                     int64  \n",
            " 15  estabelecimento_razaoSocial               object \n",
            " 16  estalecimento_noFantasia                  object \n",
            " 17  estabelecimento_municipio_codigo          float64\n",
            " 18  estabelecimento_municipio_nome            object \n",
            " 19  estabelecimento_uf                        object \n",
            " 20  vacina_grupoAtendimento_codigo            int64  \n",
            " 21  vacina_grupoAtendimento_nome              object \n",
            " 22  vacina_categoria_codigo                   float64\n",
            " 23  vacina_categoria_nome                     object \n",
            " 24  vacina_lote                               object \n",
            " 25  vacina_fabricante_nome                    object \n",
            " 26  vacina_fabricante_referencia              object \n",
            " 27  vacina_dataAplicacao                      object \n",
            " 28  vacina_descricao_dose                     object \n",
            " 29  vacina_codigo                             int64  \n",
            " 30  vacina_nome                               object \n",
            " 31  sistema_origem                            object \n",
            " 32  data_importacao_rnds                      object \n",
            "dtypes: float64(7), int64(3), object(23)\n",
            "memory usage: 1.9+ GB\n"
          ],
          "name": "stdout"
        }
      ]
    },
    {
      "cell_type": "markdown",
      "metadata": {
        "id": "TKWdjU6gY8_8"
      },
      "source": [
        "# Estatísticas descritivas"
      ]
    },
    {
      "cell_type": "code",
      "metadata": {
        "colab": {
          "base_uri": "https://localhost:8080/"
        },
        "id": "rzcVqhhkYRFB",
        "outputId": "d4010348-164d-4709-c1f7-02ea3f676947"
      },
      "source": [
        "# media das colunas\r\n",
        "media_c = estado_rj['paciente_idade'].mean()\r\n",
        "print(\"A media de idade da População Vacinada é:\", media_c)"
      ],
      "execution_count": null,
      "outputs": [
        {
          "output_type": "stream",
          "text": [
            "A media de idade da População Vacinada é: 62.710188937979495\n"
          ],
          "name": "stdout"
        }
      ]
    },
    {
      "cell_type": "code",
      "metadata": {
        "colab": {
          "base_uri": "https://localhost:8080/"
        },
        "id": "BQ_YBcHnZ-We",
        "outputId": "893e65c6-f1a1-4fc7-b16c-86e251ca6246"
      },
      "source": [
        "group_sexo = estado_rj.groupby('paciente_enumSexoBiologico')    # agrupado por sexo\r\n",
        "print('Sexo:',group_sexo.groups)\r\n"
      ],
      "execution_count": null,
      "outputs": [
        {
          "output_type": "stream",
          "text": [
            "Sexo: {'F': [69, 78, 118, 136, 137, 164, 209, 224, 263, 281, 397, 452, 482, 501, 509, 540, 571, 604, 606, 611, 668, 701, 712, 716, 754, 786, 803, 849, 876, 934, 935, 967, 972, 973, 1023, 1039, 1045, 1065, 1066, 1082, 1123, 1224, 1254, 1314, 1332, 1336, 1344, 1356, 1381, 1436, 1461, 1497, 1524, 1569, 1589, 1615, 1690, 1694, 1728, 1762, 1831, 1835, 1846, 1853, 1936, 1940, 1943, 1962, 1964, 1994, 2011, 2046, 2058, 2085, 2094, 2113, 2137, 2146, 2166, 2167, 2185, 2214, 2256, 2262, 2270, 2334, 2335, 2342, 2404, 2413, 2417, 2419, 2430, 2438, 2439, 2443, 2455, 2489, 2513, 2528, ...], 'M': [141, 176, 179, 210, 318, 323, 462, 465, 470, 527, 633, 717, 778, 815, 842, 857, 940, 991, 1050, 1091, 1182, 1244, 1371, 1488, 1498, 1648, 1695, 1702, 1793, 1800, 1844, 1854, 1895, 1983, 2010, 2067, 2153, 2163, 2192, 2288, 2340, 2344, 2364, 2374, 2380, 2394, 2540, 2573, 2578, 2609, 2639, 2648, 2659, 2676, 2760, 2767, 2782, 2784, 2817, 2876, 2937, 2941, 3017, 3040, 3088, 3138, 3207, 3268, 3279, 3291, 3295, 3495, 3546, 3582, 3617, 3710, 3796, 3875, 3913, 4037, 4111, 4197, 4206, 4231, 4302, 4442, 4508, 4546, 4557, 4626, 4653, 4759, 4806, 4815, 4824, 4848, 4891, 4917, 4939, 4959, ...]}\n"
          ],
          "name": "stdout"
        }
      ]
    },
    {
      "cell_type": "code",
      "metadata": {
        "id": "OZg3VT5WaWgA"
      },
      "source": [
        "# Contablizando grupo de atendimento\r\n",
        "\r\n",
        "G_atendimento = estado_rj['vacina_grupoAtendimento_nome']\r\n",
        "\r\n",
        "\r\n"
      ],
      "execution_count": null,
      "outputs": []
    },
    {
      "cell_type": "markdown",
      "metadata": {
        "id": "lT7IeG4QMYoV"
      },
      "source": [
        "# Proviniência de Dados\r\n",
        "\r\n"
      ]
    },
    {
      "cell_type": "code",
      "metadata": {
        "id": "SD3Ah6fGMup6"
      },
      "source": [
        "#Import ProvDocument to you Python Code\r\n",
        "#from prov.model import ProvDocument\r\n",
        "\r\n",
        "# Criando um novo documento de Proveniência\r\n",
        "#d1 = ProvDocument()  # d1 is now an empty provenance document\r\n",
        "\r\n"
      ],
      "execution_count": null,
      "outputs": []
    },
    {
      "cell_type": "markdown",
      "metadata": {
        "id": "N-io_jNm0P06"
      },
      "source": [
        "# Visualização Gráfica"
      ]
    },
    {
      "cell_type": "markdown",
      "metadata": {
        "id": "Nhw6PHmGhEwS"
      },
      "source": [
        "# Nova seção"
      ]
    },
    {
      "cell_type": "code",
      "metadata": {
        "id": "99VkKo-Y0YgB",
        "colab": {
          "base_uri": "https://localhost:8080/",
          "height": 265
        },
        "outputId": "7c587360-3715-4451-9f12-c1738f947a3c"
      },
      "source": [
        "# histogramas\r\n",
        "estado_rj['paciente_idade'].plot.hist(bins=15);"
      ],
      "execution_count": null,
      "outputs": [
        {
          "output_type": "display_data",
          "data": {
            "image/png": "[encoded data removed]",
            "text/plain": [
              "<Figure size 432x288 with 1 Axes>"
            ]
          },
          "metadata": {
            "tags": [],
            "needs_background": "light"
          }
        }
      ]
    },
    {
      "cell_type": "code",
      "metadata": {
        "colab": {
          "base_uri": "https://localhost:8080/",
          "height": 267
        },
        "id": "OWZTGWeAndff",
        "outputId": "84eed8bb-a95c-48e9-eeec-19edb306fe8d"
      },
      "source": [
        "# histogramas\r\n",
        "estado_rj['vacina_codigo'].plot.hist(bins=15);"
      ],
      "execution_count": null,
      "outputs": [
        {
          "output_type": "display_data",
          "data": {
            "image/png": "[encoded data removed]",
            "text/plain": [
              "<Figure size 432x288 with 1 Axes>"
            ]
          },
          "metadata": {
            "tags": [],
            "needs_background": "light"
          }
        }
      ]
    },
    {
      "cell_type": "code",
      "metadata": {
        "colab": {
          "base_uri": "https://localhost:8080/",
          "height": 276
        },
        "id": "yFmMelw6rOit",
        "outputId": "15e002b1-1a81-4c5c-ba07-5d5dcd058363"
      },
      "source": [
        ""
      ],
      "execution_count": null,
      "outputs": [
        {
          "output_type": "display_data",
          "data": {
            "image/png": "[encoded data removed]",
            "text/plain": [
              "<Figure size 432x288 with 1 Axes>"
            ]
          },
          "metadata": {
            "tags": [],
            "needs_background": "light"
          }
        }
      ]
    }
  ]
}