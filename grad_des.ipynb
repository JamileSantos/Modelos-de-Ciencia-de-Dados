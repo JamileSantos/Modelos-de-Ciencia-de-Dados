{
  "nbformat": 4,
  "nbformat_minor": 0,
  "metadata": {
    "colab": {
      "name": "grad_des.ipynb",
      "provenance": [],
      "authorship_tag": "ABX9TyOwdMd0DSz0PCNrBbOjzUmN",
      "include_colab_link": true
    },
    "kernelspec": {
      "name": "python3",
      "display_name": "Python 3"
    }
  },
  "cells": [
    {
      "cell_type": "markdown",
      "metadata": {
        "id": "view-in-github",
        "colab_type": "text"
      },
      "source": [
        "<a href=\"https://colab.research.google.com/github/JamileSantos/Modelos_Ciencia_de_Dados/blob/master/grad_des.ipynb\" target=\"_parent\"><img src=\"https://colab.research.google.com/assets/colab-badge.svg\" alt=\"Open In Colab\"/></a>"
      ]
    },
    {
      "cell_type": "markdown",
      "metadata": {
        "id": "Qyj0O2jRymPr"
      },
      "source": [
        "**Gradiente Descendente**\n",
        "\n",
        "Os métodos baseados no gradiente descendente são os mais comummente utilizados para encontrar uma sequência minimizadora de uma dada função $f(x)$\n",
        "\n",
        "O algoritmo abaixo mostra a forma geral do processo iterativo do gradiente. Na sua forma mais simples, a matriz **B** é a matriz identidade e a direção descendente é simplesmente o gradiente negativo da função:\n",
        "\n",
        "1. **dado um ponto inicial** $x_0$, $i = 0$\n",
        "2. **repetir** \n",
        "3. Calcular o step size(ou learning rate) $\\eta$\n",
        "4. Calcular a direcção descendente $-\\mathbf B \\nabla f(x_i)$\n",
        "5. $x_{i+1} \\leftarrow x_i -\\eta \\mathbf B \\nabla f(x_i)$\n",
        "6.  $i \\leftarrow i + 1$\n",
        "7. **até o critério de paragem ser satisfeito**\n"
      ]
    },
    {
      "cell_type": "code",
      "metadata": {
        "id": "xXPj9LIrybiU"
      },
      "source": [
        "# Algoritmo do Gradiente Descendente\n",
        "# @author: Jamile Santos\n",
        "\n",
        "import matplotlib.pyplot as plt\n",
        "import numpy as np\n",
        "import math\n",
        "import random\n",
        "\n",
        "from scipy.special import expit\n",
        "\n",
        "%matplotlib inline "
      ],
      "execution_count": null,
      "outputs": []
    },
    {
      "cell_type": "code",
      "metadata": {
        "id": "ZJ68zFfg257V",
        "colab": {
          "base_uri": "https://localhost:8080/",
          "height": 265
        },
        "outputId": "db416323-7e9b-4735-859f-9e9d9fa8d175"
      },
      "source": [
        "# Primeiro defino qual função usar\n",
        "def f_x(x):\n",
        "    return np.power(x + 2, 2) - 16 * np.exp(-np.power((x - 2), 2))\n",
        "\n",
        "# Depois  derivada da função  \n",
        "def grad_f_x(x):\n",
        "    return (2 * x - 4) - 16 * (-2 * x + 4) * np.exp(-np.power(x - 2, 2))\n",
        "\n",
        "def main_plot():\n",
        "    x = np.arange(-10, 10, 0.001)\n",
        "    y = map(lambda u: f_x(u), x)\n",
        "    plt.plot(x, list(y))\n",
        "main_plot()\n",
        "plt.show()\n",
        "\n",
        "def gradiente_des(x0, func, grad):\n",
        "  #precisão da solução\n",
        "  precision = 0.001\n",
        "  #taxa de aprendizado\n",
        "  learn = 0.001\n",
        "  # numero maximo de iteracoes\n",
        "  max_iter = 1000\n",
        "  B = 1\n",
        "  x_new = x0\n",
        "  res=[]\n",
        "  for i in range(max_iter):\n",
        "     x_old = x_new\n",
        "     #Vamos usar B = 1\n",
        "     x_new = x_old - learn *B* grad(x_old)\n",
        "     f_x_new = func(x_new)\n",
        "     f_x_old = func(x_old)\n",
        "     res.append([x_new, f_x_new])\n",
        "     #print(func(x_new))\n",
        "     if(abs (f_x_new - f_x_old) < precision):\n",
        "       print(\"Precisão %f alcançada:\" % (f_x_new - f_x_old))\n",
        "       return np.array(res)\n",
        "  print(\"Iteracção máxima alcançada\")    \n",
        "  return np.array(res)\n",
        "    \n"
      ],
      "execution_count": null,
      "outputs": [
        {
          "output_type": "display_data",
          "data": {
            "image/png": "[encoded data removed]",
            "text/plain": [
              "<Figure size 432x288 with 1 Axes>"
            ]
          },
          "metadata": {
            "tags": [],
            "needs_background": "light"
          }
        }
      ]
    },
    {
      "cell_type": "code",
      "metadata": {
        "id": "vpHp6RUy29Mr",
        "colab": {
          "base_uri": "https://localhost:8080/",
          "height": 282
        },
        "outputId": "cc0b8d7e-ccaf-40e8-8683-4ce1a6971d4c"
      },
      "source": [
        "#x0 = -10\n",
        "x0 = 10\n",
        "res = gradiente_des(x0, f_x, grad_f_x)\n",
        "plt.plot(res[:,0], res[:, 1], '+')\n",
        "main_plot()\n",
        "plt.show()"
      ],
      "execution_count": null,
      "outputs": [
        {
          "output_type": "stream",
          "text": [
            "Precisão -0.000976 alcançada:\n"
          ],
          "name": "stdout"
        },
        {
          "output_type": "display_data",
          "data": {
            "image/png": "[encoded data removed]",
            "text/plain": [
              "<Figure size 432x288 with 1 Axes>"
            ]
          },
          "metadata": {
            "tags": [],
            "needs_background": "light"
          }
        }
      ]
    }
  ]
}