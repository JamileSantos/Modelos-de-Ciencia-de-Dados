{
  "nbformat": 4,
  "nbformat_minor": 0,
  "metadata": {
    "colab": {
      "name": "k-means.ipynb",
      "provenance": [],
      "include_colab_link": true
    },
    "kernelspec": {
      "name": "python3",
      "display_name": "Python 3"
    }
  },
  "cells": [
    {
      "cell_type": "markdown",
      "metadata": {
        "id": "view-in-github",
        "colab_type": "text"
      },
      "source": [
        "<a href=\"https://colab.research.google.com/github/JamileSantos/Modelos_Ciencia_de_Dados/blob/master/k_means.ipynb\" target=\"_parent\"><img src=\"https://colab.research.google.com/assets/colab-badge.svg\" alt=\"Open In Colab\"/></a>"
      ]
    },
    {
      "cell_type": "code",
      "metadata": {
        "id": "56vdvZzE5OoG",
        "colab_type": "code",
        "colab": {}
      },
      "source": [
        "# Library to k-means\n",
        "# Author: Jamile S. Santos\n",
        "# Created: 2020-02-10\n",
        "\n",
        "#O K-means é um algoritmo do tipo não supervisionado, ou seja, que não trabalha com dados \n",
        "#rotulados. O objetivo desse algoritmo é encontrar similaridades entre os dados e agrupá-los \n",
        "#conforme o número de cluster passado pelo argumento k.\n",
        "\n",
        "import math\n",
        "import random\n",
        "import matplotlib\n",
        "import numpy as np\n",
        "import matplotlib.pyplot as plt\n",
        "%matplotlib inline \n",
        "\n",
        "#   1. sepal length in cm\n",
        "#   2. sepal width in cm\n",
        "#   3. petal length in cm\n",
        "#   4. petal width in cm\n",
        "#   5. class: \n",
        "#      0.0 - Iris Setosa\n",
        "#      1.0 - Iris Versicolour\n",
        "#      2.0 - Iris Virginica\n",
        "\n",
        "# |---sepal---|   |---petal--|\n",
        "# length  width   length width   class\n",
        "Setosa = (\n",
        "[[5.1,    3.5,    1.4,    0.2,    0.0],\n",
        "[ 4.9,    3.0,    1.4,    0.2,    0.0],\n",
        "[ 4.7,    3.2,    1.3,    0.2,    0.0],\n",
        "[ 4.6,    3.1,    1.5,    0.2,    0.0],\n",
        "[ 5.0,    3.6,    1.4,    0.2,    0.0],\n",
        "[ 5.4,    3.9,    1.7,    0.4,    0.0],\n",
        "[ 4.6,    3.4,    1.4,    0.3,    0.0],\n",
        "[ 5.0,    3.4,    1.5,    0.2,    0.0],\n",
        "[ 4.4,    2.9,    1.4,    0.2,    0.0],\n",
        "[ 4.9,    3.1,    1.5,    0.1,    0.0],\n",
        "[ 5.4,    3.7,    1.5,    0.2,    0.0],\n",
        "[ 4.8,    3.4,    1.6,    0.2,    0.0],\n",
        "[ 4.8,    3.0,    1.4,    0.1,    0.0],\n",
        "[ 4.3,    3.0,    1.1,    0.1,    0.0],\n",
        "[ 5.8,    4.0,    1.2,    0.2,    0.0],\n",
        "[ 5.7,    4.4,    1.5,    0.4,    0.0],\n",
        "[ 5.4,    3.9,    1.3,    0.4,    0.0],\n",
        "[ 5.1,    3.5,    1.4,    0.3,    0.0],\n",
        "[ 5.7,    3.8,    1.7,    0.3,    0.0],\n",
        "[ 5.1,    3.8,    1.5,    0.3,    0.0],\n",
        "[ 5.4,    3.4,    1.7,    0.2,    0.0],\n",
        "[ 5.1,    3.7,    1.5,    0.4,    0.0],\n",
        "[ 4.6,    3.6,    1.0,    0.2,    0.0],\n",
        "[ 5.1,    3.3,    1.7,    0.5,    0.0],\n",
        "[ 4.8,    3.4,    1.9,    0.2,    0.0],\n",
        "[ 5.0,    3.0,    1.6,    0.2,    0.0],\n",
        "[ 5.0,    3.4,    1.6,    0.4,    0.0],\n",
        "[ 5.2,    3.5,    1.5,    0.2,    0.0],\n",
        "[ 5.2,    3.4,    1.4,    0.2,    0.0],\n",
        "[ 4.7,    3.2,    1.6,    0.2,    0.0],\n",
        "[ 4.8,    3.1,    1.6,    0.2,    0.0],\n",
        "[ 5.4,    3.4,    1.5,    0.4,    0.0],\n",
        "[ 5.2,    4.1,    1.5,    0.1,    0.0],\n",
        "[ 5.5,    4.2,    1.4,    0.2,    0.0],\n",
        "[ 4.9,    3.1,    1.5,    0.1,    0.0],\n",
        "[ 5.0,    3.2,    1.2,    0.2,    0.0],\n",
        "[ 5.5,    3.5,    1.3,    0.2,    0.0],\n",
        "[ 4.9,    3.1,    1.5,    0.1,    0.0],\n",
        "[ 4.4,    3.0,    1.3,    0.2,    0.0],\n",
        "[ 5.1,    3.4,    1.5,    0.2,    0.0],\n",
        "[ 5.0,    3.5,    1.3,    0.3,    0.0],\n",
        "[ 4.5,    2.3,    1.3,    0.3,    0.0],\n",
        "[ 4.4,    3.2,    1.3,    0.2,    0.0],\n",
        "[ 5.0,    3.5,    1.6,    0.6,    0.0],\n",
        "[ 5.1,    3.8,    1.9,    0.4,    0.0],\n",
        "[ 4.8,    3.0,    1.4,    0.3,    0.0],\n",
        "[ 5.1,    3.8,    1.6,    0.2,    0.0],\n",
        "[ 4.6,    3.2,    1.4,    0.2,    0.0],\n",
        "[ 5.3,    3.7,    1.5,    0.2,    0.0],\n",
        "[ 5.0,    3.3,    1.4,    0.2,    0.0]])\n",
        "\n",
        "# |---sepal---|   |---petal--|\n",
        "# length  width   length width   class\n",
        "Versicolour = (\n",
        "[[7.0,    3.2,    4.7,    1.4,    1.0],\n",
        "[ 6.4,    3.2,    4.5,    1.5,    1.0],\n",
        "[ 6.9,    3.1,    4.9,    1.5,    1.0],\n",
        "[ 5.5,    2.3,    4.0,    1.3,    1.0],\n",
        "[ 6.5,    2.8,    4.6,    1.5,    1.0],\n",
        "[ 5.7,    2.8,    4.5,    1.3,    1.0],\n",
        "[ 6.3,    3.3,    4.7,    1.6,    1.0],\n",
        "[ 4.9,    2.4,    3.3,    1.0,    1.0],\n",
        "[ 6.6,    2.9,    4.6,    1.3,    1.0],\n",
        "[ 5.2,    2.7,    3.9,    1.4,    1.0],\n",
        "[ 5.0,    2.0,    3.5,    1.0,    1.0],\n",
        "[ 5.9,    3.0,    4.2,    1.5,    1.0],\n",
        "[ 6.0,    2.2,    4.0,    1.0,    1.0],\n",
        "[ 6.1,    2.9,    4.7,    1.4,    1.0],\n",
        "[ 5.6,    2.9,    3.6,    1.3,    1.0],\n",
        "[ 6.7,    3.1,    4.4,    1.4,    1.0],\n",
        "[ 5.6,    3.0,    4.5,    1.5,    1.0],\n",
        "[ 5.8,    2.7,    4.1,    1.0,    1.0],\n",
        "[ 6.2,    2.2,    4.5,    1.5,    1.0],\n",
        "[ 5.6,    2.5,    3.9,    1.1,    1.0],\n",
        "[ 5.9,    3.2,    4.8,    1.8,    1.0],\n",
        "[ 6.1,    2.8,    4.0,    1.3,    1.0],\n",
        "[ 6.3,    2.5,    4.9,    1.5,    1.0],\n",
        "[ 6.1,    2.8,    4.7,    1.2,    1.0],\n",
        "[ 6.4,    2.9,    4.3,    1.3,    1.0],\n",
        "[ 6.6,    3.0,    4.4,    1.4,    1.0],\n",
        "[ 6.8,    2.8,    4.8,    1.4,    1.0],\n",
        "[ 6.7,    3.0,    5.0,    1.7,    1.0],\n",
        "[ 6.0,    2.9,    4.5,    1.5,    1.0],\n",
        "[ 5.7,    2.6,    3.5,    1.0,    1.0],\n",
        "[ 5.5,    2.4,    3.8,    1.1,    1.0],\n",
        "[ 5.5,    2.4,    3.7,    1.0,    1.0],\n",
        "[ 5.8,    2.7,    3.9,    1.2,    1.0],\n",
        "[ 6.0,    2.7,    5.1,    1.6,    1.0],\n",
        "[ 5.4,    3.0,    4.5,    1.5,    1.0],\n",
        "[ 6.0,    3.4,    4.5,    1.6,    1.0],\n",
        "[ 6.7,    3.1,    4.7,    1.5,    1.0],\n",
        "[ 6.3,    2.3,    4.4,    1.3,    1.0],\n",
        "[ 5.6,    3.0,    4.1,    1.3,    1.0],\n",
        "[ 5.5,    2.5,    4.0,    1.3,    1.0],\n",
        "[ 5.5,    2.6,    4.4,    1.2,    1.0],\n",
        "[ 6.1,    3.0,    4.6,    1.4,    1.0],\n",
        "[ 5.8,    2.6,    4.0,    1.2,    1.0],\n",
        "[ 5.0,    2.3,    3.3,    1.0,    1.0],\n",
        "[ 5.6,    2.7,    4.2,    1.3,    1.0],\n",
        "[ 5.7,    3.0,    4.2,    1.2,    1.0],\n",
        "[ 5.7,    2.9,    4.2,    1.3,    1.0],\n",
        "[ 6.2,    2.9,    4.3,    1.3,    1.0],\n",
        "[ 5.1,    2.5,    3.0,    1.1,    1.0],\n",
        "[ 5.7,    2.8,    4.1,    1.3,    1.0]])\n",
        "\n",
        "# |---sepal---|   |---petal--|\n",
        "# length  width   length width   class\n",
        "Virginica = (\n",
        "[[6.3,    3.3,    6.0,    2.5,    2.0],\n",
        "[ 5.8,    2.7,    5.1,    1.9,    2.0],\n",
        "[ 7.1,    3.0,    5.9,    2.1,    2.0],\n",
        "[ 6.3,    2.9,    5.6,    1.8,    2.0],\n",
        "[ 6.5,    3.0,    5.8,    2.2,    2.0],\n",
        "[ 7.6,    3.0,    6.6,    2.1,    2.0],\n",
        "[ 4.9,    2.5,    4.5,    1.7,    2.0],\n",
        "[ 7.3,    2.9,    6.3,    1.8,    2.0],\n",
        "[ 6.7,    2.5,    5.8,    1.8,    2.0],\n",
        "[ 7.2,    3.6,    6.1,    2.5,    2.0],\n",
        "[ 6.5,    3.2,    5.1,    2.0,    2.0],\n",
        "[ 6.4,    2.7,    5.3,    1.9,    2.0],\n",
        "[ 6.8,    3.0,    5.5,    2.1,    2.0],\n",
        "[ 5.7,    2.5,    5.0,    2.0,    2.0],\n",
        "[ 5.8,    2.8,    5.1,    2.4,    2.0],\n",
        "[ 6.4,    3.2,    5.3,    2.3,    2.0],\n",
        "[ 6.5,    3.0,    5.5,    1.8,    2.0],\n",
        "[ 7.7,    3.8,    6.7,    2.2,    2.0],\n",
        "[ 7.7,    2.6,    6.9,    2.3,    2.0],\n",
        "[ 6.0,    2.2,    5.0,    1.5,    2.0],\n",
        "[ 6.9,    3.2,    5.7,    2.3,    2.0],\n",
        "[ 5.6,    2.8,    4.9,    2.0,    2.0],\n",
        "[ 7.7,    2.8,    6.7,    2.0,    2.0],\n",
        "[ 6.3,    2.7,    4.9,    1.8,    2.0],\n",
        "[ 6.7,    3.3,    5.7,    2.1,    2.0],\n",
        "[ 7.2,    3.2,    6.0,    1.8,    2.0],\n",
        "[ 6.2,    2.8,    4.8,    1.8,    2.0],\n",
        "[ 6.1,    3.0,    4.9,    1.8,    2.0],\n",
        "[ 6.4,    2.8,    5.6,    2.1,    2.0],\n",
        "[ 7.2,    3.0,    5.8,    1.6,    2.0],\n",
        "[ 7.4,    2.8,    6.1,    1.9,    2.0],\n",
        "[ 7.9,    3.8,    6.4,    2.0,    2.0],\n",
        "[ 6.4,    2.8,    5.6,    2.2,    2.0],\n",
        "[ 6.3,    2.8,    5.1,    1.5,    2.0],\n",
        "[ 6.1,    2.6,    5.6,    1.4,    2.0],\n",
        "[ 7.7,    3.0,    6.1,    2.3,    2.0],\n",
        "[ 6.3,    3.4,    5.6,    2.4,    2.0],\n",
        "[ 6.4,    3.1,    5.5,    1.8,    2.0],\n",
        "[ 6.0,    3.0,    4.8,    1.8,    2.0],\n",
        "[ 6.9,    3.1,    5.4,    2.1,    2.0],\n",
        "[ 6.7,    3.1,    5.6,    2.4,    2.0],\n",
        "[ 6.9,    3.1,    5.1,    2.3,    2.0],\n",
        "[ 5.8,    2.7,    5.1,    1.9,    2.0],\n",
        "[ 6.8,    3.2,    5.9,    2.3,    2.0],\n",
        "[ 6.7,    3.3,    5.7,    2.5,    2.0],\n",
        "[ 6.7,    3.0,    5.2,    2.3,    2.0],\n",
        "[ 6.3,    2.5,    5.0,    1.9,    2.0],\n",
        "[ 6.5,    3.0,    5.2,    2.0,    2.0],\n",
        "[ 6.2,    3.4,    5.4,    2.3,    2.0],\n",
        "[ 5.9,    3.0,    5.1,    1.8,    2.0]])\n",
        "\n"
      ],
      "execution_count": 0,
      "outputs": []
    },
    {
      "cell_type": "code",
      "metadata": {
        "id": "kZaHAtP5F8g5",
        "colab_type": "code",
        "colab": {}
      },
      "source": [
        "# Separando os arrays em apenas duas dimensões (colunas)\n",
        "Set = np.array(Setosa)\n",
        "S = Set[:,2:4]\n",
        "\n",
        "Virg = np.array(Virginica)\n",
        "Vi = Virg[:,2:4]\n",
        "\n",
        "Vers = np.array(Versicolour)\n",
        "Ve = Vers[:,2:4]"
      ],
      "execution_count": 0,
      "outputs": []
    },
    {
      "cell_type": "code",
      "metadata": {
        "id": "K8VHuJGCF36x",
        "colab_type": "code",
        "outputId": "ea4a5336-27a7-4ee3-ca70-26f8e3c5e75e",
        "colab": {
          "base_uri": "https://localhost:8080/",
          "height": 265
        }
      },
      "source": [
        "ABC = np.concatenate((S,Vi,Ve))\n",
        "ABC.shape\n",
        "plt.scatter(ABC[:,0],ABC[:,1])\n",
        "plt.show()"
      ],
      "execution_count": 3,
      "outputs": [
        {
          "output_type": "display_data",
          "data": {
            "image/png": "[encoded data removed]",
            "text/plain": [
              "<Figure size 432x288 with 1 Axes>"
            ]
          },
          "metadata": {
            "tags": []
          }
        }
      ]
    },
    {
      "cell_type": "code",
      "metadata": {
        "id": "seDQNk9RGz8p",
        "colab_type": "code",
        "colab": {}
      },
      "source": [
        "def colorir(AB, k, medias):\n",
        "    K = np.zeros(len(AB))\n",
        "    \n",
        "    for i in range(len(AB)):\n",
        "        menor = float('inf')\n",
        "        for j in range(k):\n",
        "            dist = np.sqrt(np.sum( (AB[i] - medias[j])**2 ))\n",
        "            #print(i,j, dist,AB[i], medias[j])\n",
        "            if dist < menor:\n",
        "                K[i] = j + 1\n",
        "                menor = dist\n",
        "            \n",
        "    if(AB.shape[1] ==2):\n",
        "        cols=[]\n",
        "        for l in K:\n",
        "            if l==1:\n",
        "                cols.append('red')\n",
        "            elif l==2:\n",
        "                cols.append('blue')\n",
        "            elif l==3:\n",
        "                cols.append('yellow')\n",
        "            elif l==4:\n",
        "                cols.append('pink')\n",
        "            else:\n",
        "                cols.append('black')\n",
        "\n",
        "        plt.scatter(AB[:,0],AB[:,1], c = cols)\n",
        "        plt.title(\"Atribuindo cores\")\n",
        "        plt.scatter(medias[:,0], medias[:,1], c='black', s=500, marker='+')\n",
        "        plt.show()\n",
        "        \n",
        "    return K\n",
        "\n",
        "def calculo_media(AB, K, k):\n",
        "    new_mean_lst = []\n",
        "    \n",
        "    for i in range(k):\n",
        "        new_mean_lst.append([])\n",
        "    \n",
        "    for i in range(len(AB)):\n",
        "        new_mean_lst[int(K[i])-1].append(AB[i])\n",
        "\n",
        "    new_mean_lst2 = []\n",
        "    #for i in range(k):\n",
        "    #    new_mean_lst2.append([])\n",
        "    for i in range(k):\n",
        "        #print(np.mean(np.array(new_mean_lst[i]),0))\n",
        "        new_mean_lst2.append(np.mean(np.array(new_mean_lst[i]),0))\n",
        "    #print(new_mean_lst2)\n",
        "    new_mean = np.array(new_mean_lst2)\n",
        "    \n",
        "    if(AB.shape[1] ==2):\n",
        "        cols=[]\n",
        "        for l in K:\n",
        "            if l==1:\n",
        "                cols.append('red')\n",
        "            elif l==2:\n",
        "                cols.append('blue')\n",
        "            elif l==3:\n",
        "                cols.append('yellow')\n",
        "            elif l==4:\n",
        "                cols.append('pink')\n",
        "            else:\n",
        "                cols.append('black')\n",
        "\n",
        "        plt.scatter(AB[:,0],AB[:,1], c = cols)\n",
        "        plt.scatter(new_mean[:,0], new_mean[:,1],c='black', s=500, marker='+')\n",
        "        plt.title(\"Cálculo da média\")\n",
        "        plt.show()\n",
        "    \n",
        "    return np.array(new_mean_lst2)\n",
        "\n"
      ],
      "execution_count": 0,
      "outputs": []
    },
    {
      "cell_type": "code",
      "metadata": {
        "id": "xfSOJ4RPG4WB",
        "colab_type": "code",
        "outputId": "9ae66510-49e1-4410-b12d-34970d6ec2f1",
        "colab": {
          "base_uri": "https://localhost:8080/",
          "height": 545
        }
      },
      "source": [
        "k=5\n",
        "\n",
        "md = []\n",
        "for i in range(k):\n",
        "    md.append( ABC[random.randint(0, len(ABC))] )\n",
        "\n",
        "media = np.array(md)\n",
        "\n",
        "K = colorir(ABC,k,media)\n",
        "media = calculo_media(ABC, K, k)"
      ],
      "execution_count": 5,
      "outputs": [
        {
          "output_type": "display_data",
          "data": {
            "image/png": "[encoded data removed]",
            "text/plain": [
              "<Figure size 432x288 with 1 Axes>"
            ]
          },
          "metadata": {
            "tags": []
          }
        },
        {
          "output_type": "display_data",
          "data": {
            "image/png": "[encoded data removed]",
            "text/plain": [
              "<Figure size 432x288 with 1 Axes>"
            ]
          },
          "metadata": {
            "tags": []
          }
        }
      ]
    },
    {
      "cell_type": "code",
      "metadata": {
        "id": "CG9rEddsHFoT",
        "colab_type": "code",
        "outputId": "eea9b86a-fe9f-428b-edba-e267e45a31bb",
        "colab": {
          "base_uri": "https://localhost:8080/",
          "height": 34
        }
      },
      "source": [
        "acc = 0\n",
        "for i in range(len(ABC)//2):\n",
        "    if K[i] == 1:\n",
        "        acc += 1;  \n",
        "for i in range(len(ABC)//2):\n",
        "    if K[i] == 2:\n",
        "        acc += 1;\n",
        "for i in range(len(ABC)//2, len(ABC)):\n",
        "    if K[i] == 3:\n",
        "        acc += 1;\n",
        "for i in range(len(ABC)//2, len(ABC)):\n",
        "    if K[i] == 4:\n",
        "        acc += 1    \n",
        "print(\"Acurácia de {:f}%\".format(acc*100/len(ABC)))"
      ],
      "execution_count": 7,
      "outputs": [
        {
          "output_type": "stream",
          "text": [
            "Acurácia de 40.000000%\n"
          ],
          "name": "stdout"
        }
      ]
    }
  ]
}